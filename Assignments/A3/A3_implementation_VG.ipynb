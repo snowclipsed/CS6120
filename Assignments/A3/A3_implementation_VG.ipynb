{
 "cells": [
  {
   "cell_type": "code",
   "execution_count": 1,
   "metadata": {},
   "outputs": [
    {
     "name": "stderr",
     "output_type": "stream",
     "text": [
      "/tmp/ipykernel_9982/265554930.py:2: DeprecationWarning: \n",
      "Pyarrow will become a required dependency of pandas in the next major release of pandas (pandas 3.0),\n",
      "(to allow more performant data types, such as the Arrow string type, and better interoperability with other libraries)\n",
      "but was not found to be installed on your system.\n",
      "If this would cause problems for you,\n",
      "please provide us feedback at https://github.com/pandas-dev/pandas/issues/54466\n",
      "        \n",
      "  import pandas as pd\n"
     ]
    }
   ],
   "source": [
    "import numpy as np\n",
    "import pandas as pd\n",
    "import matplotlib.pyplot as plt\n",
    "import seaborn as sns"
   ]
  },
  {
   "cell_type": "code",
   "execution_count": 2,
   "metadata": {},
   "outputs": [],
   "source": [
    "import json\n",
    "\n",
    "filedata = []\n",
    "with open(\"data/video_games_700k_cleaned.jsonl\") as f:\n",
    "    for line in f:\n",
    "        json_object = json.loads(line)\n",
    "        filedata.append(json_object)\n",
    "\n",
    "data = pd.DataFrame(filedata)"
   ]
  },
  {
   "cell_type": "code",
   "execution_count": 3,
   "metadata": {},
   "outputs": [
    {
     "data": {
      "text/html": [
       "<div>\n",
       "<style scoped>\n",
       "    .dataframe tbody tr th:only-of-type {\n",
       "        vertical-align: middle;\n",
       "    }\n",
       "\n",
       "    .dataframe tbody tr th {\n",
       "        vertical-align: top;\n",
       "    }\n",
       "\n",
       "    .dataframe thead th {\n",
       "        text-align: right;\n",
       "    }\n",
       "</style>\n",
       "<table border=\"1\" class=\"dataframe\">\n",
       "  <thead>\n",
       "    <tr style=\"text-align: right;\">\n",
       "      <th></th>\n",
       "      <th>text</th>\n",
       "      <th>asin</th>\n",
       "      <th>parent_asin</th>\n",
       "      <th>timestamp</th>\n",
       "      <th>helpful_vote</th>\n",
       "      <th>sentiment</th>\n",
       "    </tr>\n",
       "  </thead>\n",
       "  <tbody>\n",
       "    <tr>\n",
       "      <th>0</th>\n",
       "      <td>get puzzled surprize many puzzles ive ever see...</td>\n",
       "      <td>B003O6HDHA</td>\n",
       "      <td>B003TQM4D8</td>\n",
       "      <td>1441003098000</td>\n",
       "      <td>0</td>\n",
       "      <td>positive</td>\n",
       "    </tr>\n",
       "    <tr>\n",
       "      <th>1</th>\n",
       "      <td>skylanders swap force terrafin christmas gift ...</td>\n",
       "      <td>B00FE0FQFK</td>\n",
       "      <td>B00FA1CIUE</td>\n",
       "      <td>1389432338000</td>\n",
       "      <td>0</td>\n",
       "      <td>positive</td>\n",
       "    </tr>\n",
       "    <tr>\n",
       "      <th>2</th>\n",
       "      <td>awesome soooo happy came ! wife hates .</td>\n",
       "      <td>B0050SXKU4</td>\n",
       "      <td>B0086VPUHI</td>\n",
       "      <td>1440447684000</td>\n",
       "      <td>0</td>\n",
       "      <td>positive</td>\n",
       "    </tr>\n",
       "    <tr>\n",
       "      <th>3</th>\n",
       "      <td>five stars came great time , kids love game n'...</td>\n",
       "      <td>B01N9QVIRV</td>\n",
       "      <td>B073K6WMJ9</td>\n",
       "      <td>1514939886852</td>\n",
       "      <td>0</td>\n",
       "      <td>positive</td>\n",
       "    </tr>\n",
       "    <tr>\n",
       "      <th>4</th>\n",
       "      <td>five stars purchased play deadops</td>\n",
       "      <td>B0155OAGFE</td>\n",
       "      <td>B00VULDPCI</td>\n",
       "      <td>1503554245542</td>\n",
       "      <td>0</td>\n",
       "      <td>positive</td>\n",
       "    </tr>\n",
       "    <tr>\n",
       "      <th>...</th>\n",
       "      <td>...</td>\n",
       "      <td>...</td>\n",
       "      <td>...</td>\n",
       "      <td>...</td>\n",
       "      <td>...</td>\n",
       "      <td>...</td>\n",
       "    </tr>\n",
       "    <tr>\n",
       "      <th>205721</th>\n",
       "      <td>lags wii u. got 'll able play new smash bros. ...</td>\n",
       "      <td>B00BS520SG</td>\n",
       "      <td>B00BS520SG</td>\n",
       "      <td>1390942080000</td>\n",
       "      <td>0</td>\n",
       "      <td>negative</td>\n",
       "    </tr>\n",
       "    <tr>\n",
       "      <th>205722</th>\n",
       "      <td>audio port n't great audio port stop working t...</td>\n",
       "      <td>B01L8QHXJA</td>\n",
       "      <td>B08NRVRF3J</td>\n",
       "      <td>1552173268141</td>\n",
       "      <td>0</td>\n",
       "      <td>negative</td>\n",
       "    </tr>\n",
       "    <tr>\n",
       "      <th>205723</th>\n",
       "      <td>one star cheap worth</td>\n",
       "      <td>B00DU2CHE2</td>\n",
       "      <td>B00DU2CHE2</td>\n",
       "      <td>1443444201000</td>\n",
       "      <td>0</td>\n",
       "      <td>negative</td>\n",
       "    </tr>\n",
       "    <tr>\n",
       "      <th>205724</th>\n",
       "      <td>terrible charge</td>\n",
       "      <td>B07N2RN2CH</td>\n",
       "      <td>B07N2RN2CH</td>\n",
       "      <td>1579229906056</td>\n",
       "      <td>0</td>\n",
       "      <td>negative</td>\n",
       "    </tr>\n",
       "    <tr>\n",
       "      <th>205725</th>\n",
       "      <td>always wait 30 days reviewing well months time...</td>\n",
       "      <td>B00HTK1NCS</td>\n",
       "      <td>B00HTK1NCS</td>\n",
       "      <td>1494250928000</td>\n",
       "      <td>7</td>\n",
       "      <td>negative</td>\n",
       "    </tr>\n",
       "  </tbody>\n",
       "</table>\n",
       "<p>205726 rows × 6 columns</p>\n",
       "</div>"
      ],
      "text/plain": [
       "                                                     text        asin  \\\n",
       "0       get puzzled surprize many puzzles ive ever see...  B003O6HDHA   \n",
       "1       skylanders swap force terrafin christmas gift ...  B00FE0FQFK   \n",
       "2                 awesome soooo happy came ! wife hates .  B0050SXKU4   \n",
       "3       five stars came great time , kids love game n'...  B01N9QVIRV   \n",
       "4                       five stars purchased play deadops  B0155OAGFE   \n",
       "...                                                   ...         ...   \n",
       "205721  lags wii u. got 'll able play new smash bros. ...  B00BS520SG   \n",
       "205722  audio port n't great audio port stop working t...  B01L8QHXJA   \n",
       "205723                               one star cheap worth  B00DU2CHE2   \n",
       "205724                                    terrible charge  B07N2RN2CH   \n",
       "205725  always wait 30 days reviewing well months time...  B00HTK1NCS   \n",
       "\n",
       "       parent_asin      timestamp  helpful_vote sentiment  \n",
       "0       B003TQM4D8  1441003098000             0  positive  \n",
       "1       B00FA1CIUE  1389432338000             0  positive  \n",
       "2       B0086VPUHI  1440447684000             0  positive  \n",
       "3       B073K6WMJ9  1514939886852             0  positive  \n",
       "4       B00VULDPCI  1503554245542             0  positive  \n",
       "...            ...            ...           ...       ...  \n",
       "205721  B00BS520SG  1390942080000             0  negative  \n",
       "205722  B08NRVRF3J  1552173268141             0  negative  \n",
       "205723  B00DU2CHE2  1443444201000             0  negative  \n",
       "205724  B07N2RN2CH  1579229906056             0  negative  \n",
       "205725  B00HTK1NCS  1494250928000             7  negative  \n",
       "\n",
       "[205726 rows x 6 columns]"
      ]
     },
     "execution_count": 3,
     "metadata": {},
     "output_type": "execute_result"
    }
   ],
   "source": [
    "data"
   ]
  },
  {
   "cell_type": "code",
   "execution_count": 4,
   "metadata": {},
   "outputs": [
    {
     "data": {
      "text/plain": [
       "<Axes: xlabel='sentiment'>"
      ]
     },
     "execution_count": 4,
     "metadata": {},
     "output_type": "execute_result"
    },
    {
     "data": {
      "image/png": "[encoded data removed]",
      "text/plain": [
       "<Figure size 640x480 with 1 Axes>"
      ]
     },
     "metadata": {},
     "output_type": "display_data"
    }
   ],
   "source": [
    "data.sentiment.value_counts().plot(kind='bar')"
   ]
  },
  {
   "cell_type": "code",
   "execution_count": 5,
   "metadata": {},
   "outputs": [
    {
     "ename": "ModuleNotFoundError",
     "evalue": "No module named 'gensim'",
     "output_type": "error",
     "traceback": [
      "\u001b[0;31m---------------------------------------------------------------------------\u001b[0m",
      "\u001b[0;31mModuleNotFoundError\u001b[0m                       Traceback (most recent call last)",
      "Cell \u001b[0;32mIn[5], line 1\u001b[0m\n\u001b[0;32m----> 1\u001b[0m \u001b[38;5;28;01mfrom\u001b[39;00m \u001b[38;5;21;01mgensim\u001b[39;00m\u001b[38;5;21;01m.\u001b[39;00m\u001b[38;5;21;01mmodels\u001b[39;00m \u001b[38;5;28;01mimport\u001b[39;00m Word2Vec\n",
      "\u001b[0;31mModuleNotFoundError\u001b[0m: No module named 'gensim'"
     ]
    }
   ],
   "source": [
    "from gensim.models import Word2Vec"
   ]
  },
  {
   "cell_type": "code",
   "execution_count": 6,
   "metadata": {},
   "outputs": [
    {
     "name": "stdout",
     "output_type": "stream",
     "text": [
      "Collecting gensim\n",
      "  Downloading gensim-4.3.2-cp311-cp311-manylinux_2_17_x86_64.manylinux2014_x86_64.whl.metadata (8.3 kB)\n",
      "Requirement already satisfied: numpy>=1.18.5 in /home/snow/anaconda3/envs/NEU/lib/python3.11/site-packages (from gensim) (1.26.4)\n",
      "Requirement already satisfied: scipy>=1.7.0 in /home/snow/anaconda3/envs/NEU/lib/python3.11/site-packages (from gensim) (1.12.0)\n",
      "Requirement already satisfied: smart-open>=1.8.1 in /home/snow/anaconda3/envs/NEU/lib/python3.11/site-packages (from gensim) (6.4.0)\n",
      "Downloading gensim-4.3.2-cp311-cp311-manylinux_2_17_x86_64.manylinux2014_x86_64.whl (26.7 MB)\n",
      "\u001b[2K   \u001b[38;2;114;156;31m━━━━━━━━━━━━━━━━━━━━━━━━━━━━━━━━━━━━━━━━\u001b[0m \u001b[32m26.7/26.7 MB\u001b[0m \u001b[31m1.2 MB/s\u001b[0m eta \u001b[36m0:00:00\u001b[0mm eta \u001b[36m0:00:01\u001b[0m[36m0:00:01\u001b[0m\n",
      "\u001b[?25hInstalling collected packages: gensim\n",
      "Successfully installed gensim-4.3.2\n"
     ]
    }
   ],
   "source": [
    "!pip install gensim"
   ]
  },
  {
   "cell_type": "code",
   "execution_count": 7,
   "metadata": {},
   "outputs": [],
   "source": [
    "from gensim.models import Word2Vec"
   ]
  },
  {
   "cell_type": "code",
   "execution_count": null,
   "metadata": {},
   "outputs": [],
   "source": []
  }
 ],
 "metadata": {
  "kernelspec": {
   "display_name": "Python 3 (ipykernel)",
   "language": "python",
   "name": "python3"
  },
  "language_info": {
   "codemirror_mode": {
    "name": "ipython",
    "version": 3
   },
   "file_extension": ".py",
   "mimetype": "text/x-python",
   "name": "python",
   "nbconvert_exporter": "python",
   "pygments_lexer": "ipython3",
   "version": "3.11.7"
  }
 },
 "nbformat": 4,
 "nbformat_minor": 2
}
