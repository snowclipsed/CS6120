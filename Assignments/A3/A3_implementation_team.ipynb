{
 "cells": [
  {
   "cell_type": "code",
   "execution_count": 1,
   "metadata": {},
   "outputs": [
    {
     "name": "stderr",
     "output_type": "stream",
     "text": [
      "/tmp/ipykernel_6506/555797462.py:1: DeprecationWarning: \n",
      "Pyarrow will become a required dependency of pandas in the next major release of pandas (pandas 3.0),\n",
      "(to allow more performant data types, such as the Arrow string type, and better interoperability with other libraries)\n",
      "but was not found to be installed on your system.\n",
      "If this would cause problems for you,\n",
      "please provide us feedback at https://github.com/pandas-dev/pandas/issues/54466\n",
      "        \n",
      "  import pandas as pd\n"
     ]
    }
   ],
   "source": [
    "import pandas as pd\n",
    "import numpy as np\n",
    "import matplotlib.pyplot as plt\n",
    "import seaborn as sns"
   ]
  },
  {
   "cell_type": "code",
   "execution_count": 2,
   "metadata": {},
   "outputs": [],
   "source": [
    "data = pd.read_csv('data/review_set.csv')"
   ]
  },
  {
   "cell_type": "code",
   "execution_count": 3,
   "metadata": {},
   "outputs": [
    {
     "data": {
      "text/html": [
       "<div>\n",
       "<style scoped>\n",
       "    .dataframe tbody tr th:only-of-type {\n",
       "        vertical-align: middle;\n",
       "    }\n",
       "\n",
       "    .dataframe tbody tr th {\n",
       "        vertical-align: top;\n",
       "    }\n",
       "\n",
       "    .dataframe thead th {\n",
       "        text-align: right;\n",
       "    }\n",
       "</style>\n",
       "<table border=\"1\" class=\"dataframe\">\n",
       "  <thead>\n",
       "    <tr style=\"text-align: right;\">\n",
       "      <th></th>\n",
       "      <th>rating</th>\n",
       "      <th>asin</th>\n",
       "      <th>parent_asin</th>\n",
       "      <th>user_id</th>\n",
       "      <th>timestamp</th>\n",
       "      <th>helpful_vote</th>\n",
       "      <th>verified_purchase</th>\n",
       "      <th>review</th>\n",
       "      <th>sentiment</th>\n",
       "    </tr>\n",
       "  </thead>\n",
       "  <tbody>\n",
       "    <tr>\n",
       "      <th>0</th>\n",
       "      <td>1</td>\n",
       "      <td>B07GQGKZXK</td>\n",
       "      <td>B07GQGKZXK</td>\n",
       "      <td>AH6CWNFNTXEBSBRD5FBER47XFOLQ</td>\n",
       "      <td>2020-01-14 23:21:57.467</td>\n",
       "      <td>0</td>\n",
       "      <td>True</td>\n",
       "      <td>buyer beware item resold amazons warehouse arr...</td>\n",
       "      <td>negative</td>\n",
       "    </tr>\n",
       "    <tr>\n",
       "      <th>1</th>\n",
       "      <td>1</td>\n",
       "      <td>B00CXCCB64</td>\n",
       "      <td>B00C1TTF86</td>\n",
       "      <td>AFRXICBKBV7CEZXOPD4US563O3VQ</td>\n",
       "      <td>2013-11-29 21:19:49.000</td>\n",
       "      <td>7</td>\n",
       "      <td>True</td>\n",
       "      <td>worth buy multiplayer constantly crashes beat ...</td>\n",
       "      <td>negative</td>\n",
       "    </tr>\n",
       "    <tr>\n",
       "      <th>2</th>\n",
       "      <td>4</td>\n",
       "      <td>B07FJP1FMD</td>\n",
       "      <td>B0B28CMVJV</td>\n",
       "      <td>AHYDK5G25Z2WLLF22SBLD2OCBHPQ</td>\n",
       "      <td>2020-09-27 20:00:58.586</td>\n",
       "      <td>14</td>\n",
       "      <td>True</td>\n",
       "      <td>he fine its going anything amazing quality wis...</td>\n",
       "      <td>positive</td>\n",
       "    </tr>\n",
       "    <tr>\n",
       "      <th>3</th>\n",
       "      <td>5</td>\n",
       "      <td>B00ZS80PC2</td>\n",
       "      <td>B07SRWRH5D</td>\n",
       "      <td>AGASOV6NL4XS4WAD663EXCCTINEA</td>\n",
       "      <td>2020-04-27 23:33:51.093</td>\n",
       "      <td>2</td>\n",
       "      <td>True</td>\n",
       "      <td>meant be anyone claiming unhappy remake must h...</td>\n",
       "      <td>positive</td>\n",
       "    </tr>\n",
       "    <tr>\n",
       "      <th>4</th>\n",
       "      <td>2</td>\n",
       "      <td>B071HVWD55</td>\n",
       "      <td>B071HVWD55</td>\n",
       "      <td>AH6FPTAFXJHTKK3MCJ3NLHTPBDCQ</td>\n",
       "      <td>2019-10-04 00:40:59.924</td>\n",
       "      <td>0</td>\n",
       "      <td>True</td>\n",
       "      <td>looks feels good it like mouse feels moves bat...</td>\n",
       "      <td>negative</td>\n",
       "    </tr>\n",
       "    <tr>\n",
       "      <th>...</th>\n",
       "      <td>...</td>\n",
       "      <td>...</td>\n",
       "      <td>...</td>\n",
       "      <td>...</td>\n",
       "      <td>...</td>\n",
       "      <td>...</td>\n",
       "      <td>...</td>\n",
       "      <td>...</td>\n",
       "      <td>...</td>\n",
       "    </tr>\n",
       "    <tr>\n",
       "      <th>209995</th>\n",
       "      <td>2</td>\n",
       "      <td>B00GXMDA74</td>\n",
       "      <td>B00GXMDA74</td>\n",
       "      <td>AGQK7ZYJI7Y2PYDOCC4JFRAXCM5Q</td>\n",
       "      <td>2016-10-02 12:46:04.000</td>\n",
       "      <td>0</td>\n",
       "      <td>True</td>\n",
       "      <td>two star no good</td>\n",
       "      <td>negative</td>\n",
       "    </tr>\n",
       "    <tr>\n",
       "      <th>209996</th>\n",
       "      <td>4</td>\n",
       "      <td>B006JKARP8</td>\n",
       "      <td>B006JKARP8</td>\n",
       "      <td>AFUB4MRXTUAADQOJXQFSFSRN5KNA</td>\n",
       "      <td>2012-09-30 03:30:53.000</td>\n",
       "      <td>0</td>\n",
       "      <td>True</td>\n",
       "      <td>great product is vita other chargers work is v...</td>\n",
       "      <td>positive</td>\n",
       "    </tr>\n",
       "    <tr>\n",
       "      <th>209997</th>\n",
       "      <td>2</td>\n",
       "      <td>B0748N6796</td>\n",
       "      <td>B0748N6796</td>\n",
       "      <td>AENQMH2SNRORG6XVQULFEG5FF3XQ</td>\n",
       "      <td>2022-02-15 17:26:32.467</td>\n",
       "      <td>0</td>\n",
       "      <td>True</td>\n",
       "      <td>foam ear cups deteriorates falls mic bad corsa...</td>\n",
       "      <td>negative</td>\n",
       "    </tr>\n",
       "    <tr>\n",
       "      <th>209998</th>\n",
       "      <td>2</td>\n",
       "      <td>B00002EIZN</td>\n",
       "      <td>B00002EIZN</td>\n",
       "      <td>AGUT7K7IMHDHGOIT6ERVNJZQ575A</td>\n",
       "      <td>2000-12-21 01:23:17.000</td>\n",
       "      <td>3</td>\n",
       "      <td>False</td>\n",
       "      <td>big letdown bought game finished myst riven hu...</td>\n",
       "      <td>negative</td>\n",
       "    </tr>\n",
       "    <tr>\n",
       "      <th>209999</th>\n",
       "      <td>2</td>\n",
       "      <td>B07QBVWFGC</td>\n",
       "      <td>B0BYVN9ZK2</td>\n",
       "      <td>AHLO6S5ODELENFIGRE3XTP3QESMQ</td>\n",
       "      <td>2020-09-12 10:52:53.658</td>\n",
       "      <td>0</td>\n",
       "      <td>True</td>\n",
       "      <td>stop working a weeks loved pink head phones co...</td>\n",
       "      <td>negative</td>\n",
       "    </tr>\n",
       "  </tbody>\n",
       "</table>\n",
       "<p>210000 rows × 9 columns</p>\n",
       "</div>"
      ],
      "text/plain": [
       "        rating        asin parent_asin                       user_id  \\\n",
       "0            1  B07GQGKZXK  B07GQGKZXK  AH6CWNFNTXEBSBRD5FBER47XFOLQ   \n",
       "1            1  B00CXCCB64  B00C1TTF86  AFRXICBKBV7CEZXOPD4US563O3VQ   \n",
       "2            4  B07FJP1FMD  B0B28CMVJV  AHYDK5G25Z2WLLF22SBLD2OCBHPQ   \n",
       "3            5  B00ZS80PC2  B07SRWRH5D  AGASOV6NL4XS4WAD663EXCCTINEA   \n",
       "4            2  B071HVWD55  B071HVWD55  AH6FPTAFXJHTKK3MCJ3NLHTPBDCQ   \n",
       "...        ...         ...         ...                           ...   \n",
       "209995       2  B00GXMDA74  B00GXMDA74  AGQK7ZYJI7Y2PYDOCC4JFRAXCM5Q   \n",
       "209996       4  B006JKARP8  B006JKARP8  AFUB4MRXTUAADQOJXQFSFSRN5KNA   \n",
       "209997       2  B0748N6796  B0748N6796  AENQMH2SNRORG6XVQULFEG5FF3XQ   \n",
       "209998       2  B00002EIZN  B00002EIZN  AGUT7K7IMHDHGOIT6ERVNJZQ575A   \n",
       "209999       2  B07QBVWFGC  B0BYVN9ZK2  AHLO6S5ODELENFIGRE3XTP3QESMQ   \n",
       "\n",
       "                      timestamp  helpful_vote  verified_purchase  \\\n",
       "0       2020-01-14 23:21:57.467             0               True   \n",
       "1       2013-11-29 21:19:49.000             7               True   \n",
       "2       2020-09-27 20:00:58.586            14               True   \n",
       "3       2020-04-27 23:33:51.093             2               True   \n",
       "4       2019-10-04 00:40:59.924             0               True   \n",
       "...                         ...           ...                ...   \n",
       "209995  2016-10-02 12:46:04.000             0               True   \n",
       "209996  2012-09-30 03:30:53.000             0               True   \n",
       "209997  2022-02-15 17:26:32.467             0               True   \n",
       "209998  2000-12-21 01:23:17.000             3              False   \n",
       "209999  2020-09-12 10:52:53.658             0               True   \n",
       "\n",
       "                                                   review sentiment  \n",
       "0       buyer beware item resold amazons warehouse arr...  negative  \n",
       "1       worth buy multiplayer constantly crashes beat ...  negative  \n",
       "2       he fine its going anything amazing quality wis...  positive  \n",
       "3       meant be anyone claiming unhappy remake must h...  positive  \n",
       "4       looks feels good it like mouse feels moves bat...  negative  \n",
       "...                                                   ...       ...  \n",
       "209995                                   two star no good  negative  \n",
       "209996  great product is vita other chargers work is v...  positive  \n",
       "209997  foam ear cups deteriorates falls mic bad corsa...  negative  \n",
       "209998  big letdown bought game finished myst riven hu...  negative  \n",
       "209999  stop working a weeks loved pink head phones co...  negative  \n",
       "\n",
       "[210000 rows x 9 columns]"
      ]
     },
     "execution_count": 3,
     "metadata": {},
     "output_type": "execute_result"
    }
   ],
   "source": [
    "data"
   ]
  },
  {
   "cell_type": "code",
   "execution_count": 4,
   "metadata": {},
   "outputs": [
    {
     "data": {
      "text/plain": [
       "Index(['rating', 'asin', 'parent_asin', 'user_id', 'timestamp', 'helpful_vote',\n",
       "       'verified_purchase', 'review', 'sentiment'],\n",
       "      dtype='object')"
      ]
     },
     "execution_count": 4,
     "metadata": {},
     "output_type": "execute_result"
    }
   ],
   "source": [
    "data.columns"
   ]
  },
  {
   "cell_type": "code",
   "execution_count": 5,
   "metadata": {},
   "outputs": [
    {
     "data": {
      "text/plain": [
       "<Axes: xlabel='rating'>"
      ]
     },
     "execution_count": 5,
     "metadata": {},
     "output_type": "execute_result"
    },
    {
     "data": {
      "image/png": "[encoded data removed]",
      "text/plain": [
       "<Figure size 640x480 with 1 Axes>"
      ]
     },
     "metadata": {},
     "output_type": "display_data"
    }
   ],
   "source": [
    "data.rating.value_counts().plot(kind='bar')"
   ]
  },
  {
   "cell_type": "code",
   "execution_count": 6,
   "metadata": {},
   "outputs": [],
   "source": [
    "from gensim.models import Word2Vec"
   ]
  },
  {
   "cell_type": "code",
   "execution_count": 9,
   "metadata": {},
   "outputs": [],
   "source": [
    "import pandas as pd\n",
    "from gensim.models import Word2Vec\n",
    "from nltk.tokenize import word_tokenize\n"
   ]
  },
  {
   "cell_type": "code",
   "execution_count": 16,
   "metadata": {},
   "outputs": [],
   "source": [
    "data['tokenized_text'] = data['review'].astype(str).apply(word_tokenize)\n"
   ]
  },
  {
   "cell_type": "code",
   "execution_count": 17,
   "metadata": {},
   "outputs": [],
   "source": [
    "# Train a Word2Vec model\n",
    "model = Word2Vec(data['tokenized_text'], min_count=1)\n",
    "\n",
    "# Function to transform text into the average of its word vectors\n",
    "def text_to_vec(words, model):\n",
    "    vec = [model.wv[word] for word in words if word in model.wv]\n",
    "    return sum(vec) / len(vec) if vec else []\n",
    "\n",
    "# Apply the function to the DataFrame column\n",
    "data['text_vec'] = data['tokenized_text'].apply(lambda x: text_to_vec(x, model))"
   ]
  },
  {
   "cell_type": "code",
   "execution_count": 21,
   "metadata": {},
   "outputs": [
    {
     "data": {
      "text/plain": [
       "100"
      ]
     },
     "execution_count": 21,
     "metadata": {},
     "output_type": "execute_result"
    }
   ],
   "source": [
    "len(data.text_vec[0])"
   ]
  },
  {
   "cell_type": "code",
   "execution_count": null,
   "metadata": {},
   "outputs": [],
   "source": []
  }
 ],
 "metadata": {
  "kernelspec": {
   "display_name": "Python 3 (ipykernel)",
   "language": "python",
   "name": "python3"
  },
  "language_info": {
   "codemirror_mode": {
    "name": "ipython",
    "version": 3
   },
   "file_extension": ".py",
   "mimetype": "text/x-python",
   "name": "python",
   "nbconvert_exporter": "python",
   "pygments_lexer": "ipython3",
   "version": "3.11.7"
  }
 },
 "nbformat": 4,
 "nbformat_minor": 2
}
