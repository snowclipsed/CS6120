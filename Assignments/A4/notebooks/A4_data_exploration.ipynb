{
 "cells": [
  {
   "cell_type": "code",
   "execution_count": 1,
   "metadata": {},
   "outputs": [],
   "source": [
    "import pandas as pd"
   ]
  },
  {
   "cell_type": "code",
   "execution_count": 2,
   "metadata": {},
   "outputs": [
    {
     "name": "stderr",
     "output_type": "stream",
     "text": [
      "/home/snow/miniconda3/envs/CS6120/lib/python3.11/site-packages/tqdm/auto.py:21: TqdmWarning: IProgress not found. Please update jupyter and ipywidgets. See https://ipywidgets.readthedocs.io/en/stable/user_install.html\n",
      "  from .autonotebook import tqdm as notebook_tqdm\n"
     ]
    }
   ],
   "source": [
    "from datasets import load_from_disk\n",
    "\n",
    "\n",
    "\n",
    "# Load the Yelp review data from the disk\n",
    "yelp_data = load_from_disk('/home/snow/NEU/CS6120/Assignments/A4/dataset/train')\n",
    "\n",
    "# Convert to a pandas dataframe and print the first 5 examples\n",
    "import pandas as pd\n",
    "yelp_df = pd.DataFrame(yelp_data)\n",
    "\n",
    "\n"
   ]
  },
  {
   "cell_type": "code",
   "execution_count": 3,
   "metadata": {},
   "outputs": [
    {
     "data": {
      "text/html": [
       "<div>\n",
       "<style scoped>\n",
       "    .dataframe tbody tr th:only-of-type {\n",
       "        vertical-align: middle;\n",
       "    }\n",
       "\n",
       "    .dataframe tbody tr th {\n",
       "        vertical-align: top;\n",
       "    }\n",
       "\n",
       "    .dataframe thead th {\n",
       "        text-align: right;\n",
       "    }\n",
       "</style>\n",
       "<table border=\"1\" class=\"dataframe\">\n",
       "  <thead>\n",
       "    <tr style=\"text-align: right;\">\n",
       "      <th></th>\n",
       "      <th>label</th>\n",
       "      <th>text</th>\n",
       "    </tr>\n",
       "  </thead>\n",
       "  <tbody>\n",
       "    <tr>\n",
       "      <th>0</th>\n",
       "      <td>4</td>\n",
       "      <td>dr. goldberg offers everything i look for in a...</td>\n",
       "    </tr>\n",
       "    <tr>\n",
       "      <th>1</th>\n",
       "      <td>1</td>\n",
       "      <td>Unfortunately, the frustration of being Dr. Go...</td>\n",
       "    </tr>\n",
       "    <tr>\n",
       "      <th>2</th>\n",
       "      <td>3</td>\n",
       "      <td>Been going to Dr. Goldberg for over 10 years. ...</td>\n",
       "    </tr>\n",
       "    <tr>\n",
       "      <th>3</th>\n",
       "      <td>3</td>\n",
       "      <td>Got a letter in the mail last week that said D...</td>\n",
       "    </tr>\n",
       "    <tr>\n",
       "      <th>4</th>\n",
       "      <td>0</td>\n",
       "      <td>I don't know what Dr. Goldberg was like before...</td>\n",
       "    </tr>\n",
       "    <tr>\n",
       "      <th>...</th>\n",
       "      <td>...</td>\n",
       "      <td>...</td>\n",
       "    </tr>\n",
       "    <tr>\n",
       "      <th>649995</th>\n",
       "      <td>4</td>\n",
       "      <td>I had a sprinkler that was gushing... pipe bro...</td>\n",
       "    </tr>\n",
       "    <tr>\n",
       "      <th>649996</th>\n",
       "      <td>0</td>\n",
       "      <td>Phone calls always go to voicemail and message...</td>\n",
       "    </tr>\n",
       "    <tr>\n",
       "      <th>649997</th>\n",
       "      <td>0</td>\n",
       "      <td>Looks like all of the good reviews have gone t...</td>\n",
       "    </tr>\n",
       "    <tr>\n",
       "      <th>649998</th>\n",
       "      <td>4</td>\n",
       "      <td>I was able to once again rely on Yelp to provi...</td>\n",
       "    </tr>\n",
       "    <tr>\n",
       "      <th>649999</th>\n",
       "      <td>0</td>\n",
       "      <td>I have been using this company for 11 months. ...</td>\n",
       "    </tr>\n",
       "  </tbody>\n",
       "</table>\n",
       "<p>650000 rows × 2 columns</p>\n",
       "</div>"
      ],
      "text/plain": [
       "        label                                               text\n",
       "0           4  dr. goldberg offers everything i look for in a...\n",
       "1           1  Unfortunately, the frustration of being Dr. Go...\n",
       "2           3  Been going to Dr. Goldberg for over 10 years. ...\n",
       "3           3  Got a letter in the mail last week that said D...\n",
       "4           0  I don't know what Dr. Goldberg was like before...\n",
       "...       ...                                                ...\n",
       "649995      4  I had a sprinkler that was gushing... pipe bro...\n",
       "649996      0  Phone calls always go to voicemail and message...\n",
       "649997      0  Looks like all of the good reviews have gone t...\n",
       "649998      4  I was able to once again rely on Yelp to provi...\n",
       "649999      0  I have been using this company for 11 months. ...\n",
       "\n",
       "[650000 rows x 2 columns]"
      ]
     },
     "execution_count": 3,
     "metadata": {},
     "output_type": "execute_result"
    }
   ],
   "source": [
    "yelp_df"
   ]
  },
  {
   "cell_type": "code",
   "execution_count": 4,
   "metadata": {},
   "outputs": [
    {
     "data": {
      "text/plain": [
       "1300000"
      ]
     },
     "execution_count": 4,
     "metadata": {},
     "output_type": "execute_result"
    }
   ],
   "source": [
    "yelp_df.size"
   ]
  },
  {
   "cell_type": "code",
   "execution_count": 5,
   "metadata": {},
   "outputs": [
    {
     "data": {
      "text/plain": [
       "<bound method NDFrame.tail of         label                                               text\n",
       "0           4  dr. goldberg offers everything i look for in a...\n",
       "1           1  Unfortunately, the frustration of being Dr. Go...\n",
       "2           3  Been going to Dr. Goldberg for over 10 years. ...\n",
       "3           3  Got a letter in the mail last week that said D...\n",
       "4           0  I don't know what Dr. Goldberg was like before...\n",
       "...       ...                                                ...\n",
       "649995      4  I had a sprinkler that was gushing... pipe bro...\n",
       "649996      0  Phone calls always go to voicemail and message...\n",
       "649997      0  Looks like all of the good reviews have gone t...\n",
       "649998      4  I was able to once again rely on Yelp to provi...\n",
       "649999      0  I have been using this company for 11 months. ...\n",
       "\n",
       "[650000 rows x 2 columns]>"
      ]
     },
     "execution_count": 5,
     "metadata": {},
     "output_type": "execute_result"
    }
   ],
   "source": [
    "yelp_df.tail"
   ]
  },
  {
   "cell_type": "code",
   "execution_count": 6,
   "metadata": {},
   "outputs": [
    {
     "data": {
      "text/plain": [
       "Index(['label', 'text'], dtype='object')"
      ]
     },
     "execution_count": 6,
     "metadata": {},
     "output_type": "execute_result"
    }
   ],
   "source": [
    "yelp_df.columns"
   ]
  },
  {
   "cell_type": "markdown",
   "metadata": {},
   "source": [
    "Next, we will investigate how many tokens each review has?"
   ]
  },
  {
   "cell_type": "code",
   "execution_count": 7,
   "metadata": {},
   "outputs": [],
   "source": [
    "from transformers import BertTokenizer\n",
    "tokenizer = BertTokenizer.from_pretrained('bert-base-uncased')\n",
    "\n",
    "def count_tokens(text, tokenizer=tokenizer):\n",
    "    tokens = tokenizer.tokenize(text)\n",
    "    return len(tokens)\n",
    "\n",
    "yelp_df['token_counts'] = yelp_df['text'].apply(count_tokens)"
   ]
  },
  {
   "cell_type": "markdown",
   "metadata": {},
   "source": [
    "Now let's see how long our text is?"
   ]
  },
  {
   "cell_type": "code",
   "execution_count": 8,
   "metadata": {},
   "outputs": [
    {
     "data": {
      "text/plain": [
       "count    650000.000000\n",
       "mean        178.696091\n",
       "std         163.847267\n",
       "min           1.000000\n",
       "25%          69.000000\n",
       "50%         130.000000\n",
       "75%         234.000000\n",
       "max        2342.000000\n",
       "Name: token_counts, dtype: float64"
      ]
     },
     "execution_count": 8,
     "metadata": {},
     "output_type": "execute_result"
    }
   ],
   "source": [
    "yelp_df.token_counts.describe()"
   ]
  },
  {
   "cell_type": "markdown",
   "metadata": {},
   "source": [
    "Interesting.\n",
    "\n",
    "Let's break this down. We can see that the average token count sits at 178, which is comfortably less than half the context window.\n",
    "\n",
    "However, mean is not a good statistic in this case.\n",
    "\n",
    "We can see that the minimum length and the maximum length are both very extreme (compared to the context length of most BeRT models). The first one is just one token long.\n",
    "\n",
    "The 50% deviation mark actually lies towards 130 tokens than 178. \n",
    "\n",
    "Let's see how many tokens are above the context length of a typical BeRT model."
   ]
  },
  {
   "cell_type": "code",
   "execution_count": 9,
   "metadata": {},
   "outputs": [
    {
     "name": "stdout",
     "output_type": "stream",
     "text": [
      "29932\n"
     ]
    }
   ],
   "source": [
    "print(len(yelp_df[yelp_df['token_counts'] > 512]))"
   ]
  },
  {
   "cell_type": "markdown",
   "metadata": {},
   "source": [
    "That is a lot of reviews above 512 tokens! This is why we need to make sure that we can capture the entire context potentially. If possible, we need to devise a strategy during implementation to capture parts of a review that might be truncated otherwise.\n",
    "\n",
    "\n",
    "Next, let's properly visualize what the distribution of reviews across the board is."
   ]
  },
  {
   "cell_type": "code",
   "execution_count": 15,
   "metadata": {},
   "outputs": [
    {
     "data": {
      "image/png": "[encoded data removed]",
      "text/plain": [
       "<Figure size 640x480 with 1 Axes>"
      ]
     },
     "metadata": {},
     "output_type": "display_data"
    }
   ],
   "source": [
    "import matplotlib.pyplot as plt\n",
    "\n",
    "def token_distribution(token_counts):\n",
    "    plt.hist(token_counts, bins=50)\n",
    "    plt.xlabel('Token Length')\n",
    "    plt.ylabel('Frequency')\n",
    "    plt.title('Distribution of Token Length')\n",
    "    plt.show()\n",
    "\n",
    "token_distribution(yelp_df['token_counts'])"
   ]
  },
  {
   "cell_type": "markdown",
   "metadata": {},
   "source": [
    "Let's look at token counts below 512 more closely"
   ]
  },
  {
   "cell_type": "code",
   "execution_count": 24,
   "metadata": {},
   "outputs": [
    {
     "data": {
      "image/png": "[encoded data removed]",
      "text/plain": [
       "<Figure size 640x480 with 1 Axes>"
      ]
     },
     "metadata": {},
     "output_type": "display_data"
    },
    {
     "data": {
      "text/plain": [
       "513.0"
      ]
     },
     "execution_count": 24,
     "metadata": {},
     "output_type": "execute_result"
    }
   ],
   "source": [
    "token_distribution(yelp_df[yelp_df['token_counts'] < 512]['token_counts'])\n",
    "\n",
    "yelp_df['token_counts'].quantile(0.954)"
   ]
  },
  {
   "cell_type": "markdown",
   "metadata": {},
   "source": [
    "Let's look for any class imbalance potentially.."
   ]
  },
  {
   "cell_type": "code",
   "execution_count": 10,
   "metadata": {},
   "outputs": [
    {
     "data": {
      "text/plain": [
       "label\n",
       "4    130000\n",
       "1    130000\n",
       "3    130000\n",
       "0    130000\n",
       "2    130000\n",
       "Name: count, dtype: int64"
      ]
     },
     "execution_count": 10,
     "metadata": {},
     "output_type": "execute_result"
    }
   ],
   "source": [
    "yelp_df.label.value_counts()"
   ]
  },
  {
   "cell_type": "markdown",
   "metadata": {},
   "source": [
    "No class imbalance found! That's pretty good. ALthough that should not matter as much since we are not training a model."
   ]
  },
  {
   "cell_type": "markdown",
   "metadata": {},
   "source": [
    "Let's see what kind of words are used by each kind of review.\n",
    "\n",
    "First, we will categorize a rating of 3 and 4 as Positive\n",
    "\n",
    "A rating of 2 is neutral, and a rating of 0-1 is negative\n",
    "\n",
    "Let us add the labels to the reviews according to this."
   ]
  },
  {
   "cell_type": "code",
   "execution_count": 11,
   "metadata": {},
   "outputs": [],
   "source": [
    "def assign_sentiment_label(row):\n",
    "    if row['label'] in [3, 4]:\n",
    "        return 'positive'\n",
    "    elif row['label'] == 2:\n",
    "        return 'neutral'\n",
    "    else:\n",
    "        return 'negative'\n",
    "\n",
    "yelp_df['sentiment'] = yelp_df.apply(assign_sentiment_label, axis=1)\n"
   ]
  },
  {
   "cell_type": "code",
   "execution_count": 12,
   "metadata": {},
   "outputs": [
    {
     "data": {
      "text/plain": [
       "sentiment\n",
       "positive    260000\n",
       "negative    260000\n",
       "neutral     130000\n",
       "Name: count, dtype: int64"
      ]
     },
     "execution_count": 12,
     "metadata": {},
     "output_type": "execute_result"
    }
   ],
   "source": [
    "yelp_df.sentiment.value_counts()"
   ]
  },
  {
   "cell_type": "code",
   "execution_count": null,
   "metadata": {},
   "outputs": [],
   "source": []
  }
 ],
 "metadata": {
  "kernelspec": {
   "display_name": "CS6120",
   "language": "python",
   "name": "python3"
  },
  "language_info": {
   "codemirror_mode": {
    "name": "ipython",
    "version": 3
   },
   "file_extension": ".py",
   "mimetype": "text/x-python",
   "name": "python",
   "nbconvert_exporter": "python",
   "pygments_lexer": "ipython3",
   "version": "3.11.8"
  }
 },
 "nbformat": 4,
 "nbformat_minor": 2
}
