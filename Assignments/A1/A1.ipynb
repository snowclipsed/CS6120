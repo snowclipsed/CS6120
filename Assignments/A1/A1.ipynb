{
 "cells": [
  {
   "cell_type": "code",
   "execution_count": 1,
   "id": "1d211f49-6022-407b-b213-19c67d6f07d8",
   "metadata": {},
   "outputs": [
    {
     "name": "stderr",
     "output_type": "stream",
     "text": [
      "/var/folders/nb/sgb5l3c56gx84mnvsmg95cz00000gn/T/ipykernel_77731/2920217473.py:1: DeprecationWarning: \n",
      "Pyarrow will become a required dependency of pandas in the next major release of pandas (pandas 3.0),\n",
      "(to allow more performant data types, such as the Arrow string type, and better interoperability with other libraries)\n",
      "but was not found to be installed on your system.\n",
      "If this would cause problems for you,\n",
      "please provide us feedback at https://github.com/pandas-dev/pandas/issues/54466\n",
      "        \n",
      "  import pandas as pd\n"
     ]
    },
    {
     "name": "stdout",
     "output_type": "stream",
     "text": [
      "                                          pn_history\n",
      "0  17-year-old male, has come to the student heal...\n",
      "1  17 yo male with recurrent palpitations for the...\n",
      "2  Dillon Cleveland is a 17 y.o. male patient wit...\n",
      "3  a 17 yo m c/o palpitation started 3 mos ago; \\...\n",
      "4  17yo male with no pmh here for evaluation of p...\n",
      "5  17 yo m, presenting with palpitations/increase...\n",
      "6  17 yo male presents with 3-4 month history of ...\n",
      "7  17 yo male presents with a 2-3 month history o...\n",
      "8  HPI: 17 YO complains of intermittent heart pal...\n",
      "9  Mr. Cleveland is a 17 yo M who presents to cli...\n"
     ]
    }
   ],
   "source": [
    "import pandas as pd\n",
    "import re\n",
    "from symspellpy import SymSpell, Verbosity\n",
    "import pkg_resources\n",
    "\n",
    "df = pd.read_csv('data/patient_notes.csv', usecols=[2], encoding='utf-8')\n",
    "\n",
    "print(df[:10])"
   ]
  },
  {
   "cell_type": "code",
   "execution_count": null,
   "id": "f85b7a28",
   "metadata": {},
   "outputs": [],
   "source": []
  },
  {
   "cell_type": "code",
   "execution_count": 2,
   "id": "b6c115a5-5cb0-4ecb-8ed1-267a783c8831",
   "metadata": {},
   "outputs": [
    {
     "name": "stdout",
     "output_type": "stream",
     "text": [
      "                                           pn_history\n",
      "0   17-year-old male, has come to the student heal...\n",
      "1   17 yo male with recurrent palpitations for the...\n",
      "2   Dillon Cleveland is a 17 y.o. male patient wit...\n",
      "3   a 17 yo m c/o palpitation started 3 mos ago; \\...\n",
      "4   17yo male with no pmh here for evaluation of p...\n",
      "5   17 yo m, presenting with palpitations/increase...\n",
      "6   17 yo male presents with 3-4 month history of ...\n",
      "7   17 yo male presents with a 2-3 month history o...\n",
      "8   HPI: 17 YO complains of intermittent heart pal...\n",
      "9   Mr. Cleveland is a 17 yo M who presents to cli...\n",
      "10  Mr. Cleveland is a 17 year old male with no si...\n",
      "11  Dillon Cleveland is a 17 year old male with no...\n",
      "12  Patient is a 17 yo male presenting to student ...\n",
      "13  17 yr old boy complaining of heart pounding fo...\n",
      "14  17 year old male with no significant PMH. Comp...\n",
      "15  Mr. Cleveland is a 17 yo male who presents tod...\n",
      "16  HPI: 17yo M presents with palpitations. Patien...\n",
      "17  17 yo male presents with 2-3 months of \"poundi...\n",
      "18  HPI Mr. Cleveland is a 17yo male presenting fo...\n",
      "19  17yo M presents with heart palpitations. He ha...\n"
     ]
    }
   ],
   "source": [
    "# print(df['pn_history'])\n",
    "print(df[:20])"
   ]
  },
  {
   "cell_type": "code",
   "execution_count": 3,
   "id": "db0dc1d9-f7a1-49f3-98d2-e44a0404fec8",
   "metadata": {},
   "outputs": [],
   "source": [
    "df['pn_history'] = df['pn_history'].apply(lambda x: x.lower())"
   ]
  },
  {
   "cell_type": "code",
   "execution_count": 4,
   "id": "15bb5159-a776-4231-9c24-b826fa1c0978",
   "metadata": {},
   "outputs": [],
   "source": [
    "df['pn_history'] = df['pn_history'].apply(lambda x: re.sub(r'[!@#$%^&*()_+=\\-~`;:\\'\",.<>/?|\\\\]', '', x))"
   ]
  },
  {
   "cell_type": "code",
   "execution_count": 5,
   "id": "534a88b9-1802-4812-b16a-10574844081c",
   "metadata": {},
   "outputs": [],
   "source": [
    "df['pn_history'] = df['pn_history'].apply(lambda x: re.sub(r'(\\d{1,2})/(\\d{1,2})/(\\d{4})', r'\\2-\\1-\\3', x))"
   ]
  },
  {
   "cell_type": "code",
   "execution_count": 6,
   "id": "5c522abc-6576-4983-9766-2d0f0c2a7bfd",
   "metadata": {},
   "outputs": [],
   "source": [
    "import contractions\n",
    "\n",
    "df['pn_history'] = df['pn_history'].apply(lambda x: contractions.fix(x))"
   ]
  },
  {
   "cell_type": "code",
   "execution_count": 7,
   "id": "23c9036c-598a-42ef-b708-a7ebf54b0762",
   "metadata": {},
   "outputs": [
    {
     "name": "stderr",
     "output_type": "stream",
     "text": [
      "[nltk_data] Downloading package stopwords to\n",
      "[nltk_data]     C:\\Users\\harry\\AppData\\Roaming\\nltk_data...\n",
      "[nltk_data]   Package stopwords is already up-to-date!\n"
     ]
    }
   ],
   "source": [
    "import nltk\n",
    "from nltk.corpus import stopwords\n",
    "import pandas as pd\n",
    "\n",
    "nltk.download('stopwords')\n",
    "\n",
    "stop_words = set(stopwords.words('english'))\n",
    "additional_stopwords = {'is', 'of', 'an'}\n",
    "\n",
    "stop_words.update(additional_stopwords)\n",
    "df['stopwords_removed'] = df['pn_history'].apply(lambda x: ' '.join([word for word in x.split() if word.lower() not in stop_words]))"
   ]
  },
  {
   "cell_type": "code",
   "execution_count": 8,
   "id": "a773608b",
   "metadata": {},
   "outputs": [
    {
     "data": {
      "text/plain": [
       "'17yearold male has come to the student health clinic complaining of heart pounding mr clevelands mother has given verbal consent for a history physical examination and treatment\\r\\nbegan 23 months agosuddenintermittent for 2 dayslasting 34 minworseningnonallevaggrav\\r\\nassociated with dispnea on exersion and reststressed out about school\\r\\nreports fe feels like his heart is jumping out of his chest\\r\\nrosdenies chest paindyaphoresiswt losschillsfevernauseavomitingpedal edeam\\r\\npmhnonmeds aderol from a friendnkda\\r\\nfhfather had mi recentlymother has thyroid dz\\r\\nshnonsmokermariguana 56 months ago3 beers on the weekend basketball at school\\r\\nshno std'"
      ]
     },
     "execution_count": 8,
     "metadata": {},
     "output_type": "execute_result"
    }
   ],
   "source": [
    "df['pn_history'][0]"
   ]
  },
  {
   "cell_type": "code",
   "execution_count": 9,
   "id": "8697460f-fb4e-4f4c-8314-279d71d6161d",
   "metadata": {},
   "outputs": [
    {
     "data": {
      "text/plain": [
       "True"
      ]
     },
     "execution_count": 9,
     "metadata": {},
     "output_type": "execute_result"
    }
   ],
   "source": [
    "\n",
    "sym_spell = SymSpell(max_dictionary_edit_distance=2, prefix_length=7)\n",
    "dictionary_path = pkg_resources.resource_filename(\n",
    "    \"symspellpy\", \"frequency_dictionary_en_82_765.txt\"\n",
    ")\n",
    "sym_spell.load_dictionary( dictionary_path,term_index=0, count_index=1)"
   ]
  },
  {
   "cell_type": "code",
   "execution_count": null,
   "id": "a6269ed0",
   "metadata": {},
   "outputs": [],
   "source": [
    "def correct_spelling(text):\n",
    "    suggestions = sym_spell.lookup_compound(text, max_edit_distance=2)\n",
    "    return suggestions[0].term if suggestions else text\n",
    "\n",
    "df['corrected_notes'] = df['stopwords_removed'].apply(correct_spelling)"
   ]
  },
  {
   "cell_type": "code",
   "execution_count": null,
   "id": "83cdcc86-bcac-4dd9-a5e5-3966cda9141c",
   "metadata": {},
   "outputs": [],
   "source": [
    "df.to_csv('processed_notes.csv', index=False)"
   ]
  },
  {
   "cell_type": "code",
   "execution_count": 9,
   "id": "4051e4c6",
   "metadata": {},
   "outputs": [],
   "source": [
    "processed = pd.read_csv('data/processed_notes.csv')"
   ]
  },
  {
   "cell_type": "code",
   "execution_count": 10,
   "id": "bfe43686",
   "metadata": {},
   "outputs": [
    {
     "name": "stdout",
     "output_type": "stream",
     "text": [
      "Defaulting to user installation because normal site-packages is not writeable\n",
      "Collecting wordninja\n",
      "  Downloading wordninja-2.0.0.tar.gz (541 kB)\n",
      "     ---------------------------------------- 0.0/541.6 kB ? eta -:--:--\n",
      "      --------------------------------------- 10.2/541.6 kB ? eta -:--:--\n",
      "     -- ---------------------------------- 41.0/541.6 kB 330.3 kB/s eta 0:00:02\n",
      "     -------- --------------------------- 122.9/541.6 kB 901.1 kB/s eta 0:00:01\n",
      "     -------------------- ----------------- 286.7/541.6 kB 1.5 MB/s eta 0:00:01\n",
      "     -------------------------------------- 541.6/541.6 kB 2.4 MB/s eta 0:00:00\n",
      "  Preparing metadata (setup.py): started\n",
      "  Preparing metadata (setup.py): finished with status 'done'\n",
      "Building wheels for collected packages: wordninja\n",
      "  Building wheel for wordninja (setup.py): started\n",
      "  Building wheel for wordninja (setup.py): finished with status 'done'\n",
      "  Created wheel for wordninja: filename=wordninja-2.0.0-py3-none-any.whl size=541535 sha256=f2ff247c2d2d4257daf19a22cc76fc2ba7f24d73f35543046272449512c4b3aa\n",
      "  Stored in directory: c:\\users\\harry\\appdata\\local\\pip\\cache\\wheels\\e6\\66\\9c\\712044a983337f5d44f90abcd244bd4b8ad28ee64750404b50\n",
      "Successfully built wordninja\n",
      "Installing collected packages: wordninja\n",
      "Successfully installed wordninja-2.0.0\n"
     ]
    }
   ],
   "source": [
    "!pip install wordninja"
   ]
  },
  {
   "cell_type": "code",
   "execution_count": 13,
   "id": "aff252a8",
   "metadata": {},
   "outputs": [
    {
     "data": {
      "text/plain": [
       "['ago', 'sudden', 'intermittent']"
      ]
     },
     "execution_count": 13,
     "metadata": {},
     "output_type": "execute_result"
    }
   ],
   "source": [
    "wordninja.split('agosuddenintermittent')"
   ]
  },
  {
   "cell_type": "code",
   "execution_count": 6,
   "id": "7b8fcf35",
   "metadata": {},
   "outputs": [
    {
     "name": "stdout",
     "output_type": "stream",
     "text": [
      "                                          pn_history  \\\n",
      "0  17yearold male has come to the student health ...   \n",
      "1  17 yo male with recurrent palpitations for the...   \n",
      "2  dillon cleveland is a 17 yo male patient with ...   \n",
      "3  a 17 yo m co palpitation started 3 mos ago \\nn...   \n",
      "4  17yo male with no pmh here for evaluation of p...   \n",
      "5  17 yo m presenting with palpitationsincreased ...   \n",
      "6  17 yo male presents with 34 month history of h...   \n",
      "7  17 yo male presents with a 23 month history of...   \n",
      "8  hpi 17 yo complains of intermittent heart palp...   \n",
      "9  mr cleveland is a 17 yo m who presents to clin...   \n",
      "\n",
      "                                   stopwords_removed  \\\n",
      "0  17yearold male come student health clinic comp...   \n",
      "1  17 yo male recurrent palpitations past 3 mo la...   \n",
      "2  dillon cleveland 17 yo male patient significan...   \n",
      "3  17 yo co palpitation started 3 mos ago nothing...   \n",
      "4  17yo male pmh evaluation palpitations states l...   \n",
      "5  17 yo presenting palpitationsincreased heart r...   \n",
      "6  17 yo male presents 34 month history heart pou...   \n",
      "7  17 yo male presents 23 month history episodic ...   \n",
      "8  hpi 17 yo complains intermittent heart palpita...   \n",
      "9  mr cleveland 17 yo presents clinic complaint p...   \n",
      "\n",
      "                                     corrected_notes  \n",
      "0  year old male come student health clinic compl...  \n",
      "1  of to male recurrent palpitations past a to la...  \n",
      "2  dillon cleveland of to male patient significan...  \n",
      "3  of to co palpitation started a mos ago nothing...  \n",
      "4  mayo male pm evaluation palpitations states la...  \n",
      "5  of to presenting palpitations increased heart ...  \n",
      "6  of to male presents of month history heart pou...  \n",
      "7  of to male presents of month history episodic ...  \n",
      "8  hip of to complains intermittent heart palpita...  \n",
      "9  or cleveland of to presents clinic complaint p...  \n",
      "       abdominal    active       age       ago   alcohol  allergies   anxiety  \\\n",
      "0       0.000000  0.000000  0.000000  0.111160  0.000000   0.000000  0.000000   \n",
      "1       0.000000  0.000000  0.000000  0.147726  0.000000   0.000000  0.000000   \n",
      "2       0.000000  0.000000  0.160682  0.000000  0.000000   0.000000  0.180892   \n",
      "3       0.183658  0.000000  0.000000  0.194539  0.000000   0.000000  0.000000   \n",
      "4       0.000000  0.000000  0.000000  0.205534  0.000000   0.000000  0.000000   \n",
      "...          ...       ...       ...       ...       ...        ...       ...   \n",
      "42141   0.000000  0.000000  0.000000  0.000000  0.147982   0.000000  0.000000   \n",
      "42142   0.000000  0.000000  0.000000  0.106470  0.000000   0.000000  0.000000   \n",
      "42143   0.000000  0.000000  0.000000  0.086325  0.000000   0.000000  0.000000   \n",
      "42144   0.000000  0.114104  0.000000  0.000000  0.000000   0.112824  0.000000   \n",
      "42145   0.151825  0.096965  0.000000  0.080410  0.000000   0.000000  0.000000   \n",
      "\n",
      "       appetite  asleep  associated  ...    weeks    weight  work  worker  \\\n",
      "0           0.0     0.0    0.170196  ...  0.00000  0.000000   0.0     0.0   \n",
      "1           0.0     0.0    0.000000  ...  0.00000  0.189844   0.0     0.0   \n",
      "2           0.0     0.0    0.000000  ...  0.00000  0.000000   0.0     0.0   \n",
      "3           0.0     0.0    0.297858  ...  0.00000  0.000000   0.0     0.0   \n",
      "4           0.0     0.0    0.104898  ...  0.00000  0.088045   0.0     0.0   \n",
      "...         ...     ...         ...  ...      ...       ...   ...     ...   \n",
      "42141       0.0     0.0    0.000000  ...  0.00000  0.000000   0.0     0.0   \n",
      "42142       0.0     0.0    0.163015  ...  0.00000  0.000000   0.0     0.0   \n",
      "42143       0.0     0.0    0.132171  ...  0.09455  0.000000   0.0     0.0   \n",
      "42144       0.0     0.0    0.000000  ...  0.00000  0.000000   0.0     0.0   \n",
      "42145       0.0     0.0    0.000000  ...  0.00000  0.000000   0.0     0.0   \n",
      "\n",
      "          works     worse      year     years  yesterday       yrs  \n",
      "0      0.000000  0.000000  0.157374  0.000000   0.000000  0.000000  \n",
      "1      0.000000  0.000000  0.000000  0.000000   0.000000  0.000000  \n",
      "2      0.000000  0.000000  0.000000  0.000000   0.000000  0.000000  \n",
      "3      0.000000  0.000000  0.000000  0.000000   0.000000  0.227525  \n",
      "4      0.000000  0.000000  0.000000  0.000000   0.000000  0.000000  \n",
      "...         ...       ...       ...       ...        ...       ...  \n",
      "42141  0.000000  0.293557  0.000000  0.000000   0.374948  0.000000  \n",
      "42142  0.000000  0.331138  0.000000  0.000000   0.000000  0.000000  \n",
      "42143  0.154585  0.134242  0.122214  0.000000   0.171461  0.000000  \n",
      "42144  0.169443  0.294290  0.133961  0.000000   0.187942  0.000000  \n",
      "42145  0.000000  0.250086  0.000000  0.104373   0.159712  0.000000  \n",
      "\n",
      "[42146 rows x 200 columns]\n"
     ]
    }
   ],
   "source": [
    "# constructing a DTM\n",
    "# importing TfidfVectorizer \n",
    "from sklearn.feature_extraction.text import TfidfVectorizer\n",
    " \n",
    "# loading the .csv file and storing it in processed_df variable\n",
    "processed_df = pd.read_csv(\"data/processed_notes.csv\")\n",
    " \n",
    "# extracting the column containing the processed data\n",
    "processed_data_column = 'corrected_notes'\n",
    "\n",
    "print(processed_data_column.head(10))\n",
    " \n",
    "# creating a TF-IDF Vectorizer\n",
    "tfidf_vectorizer = TfidfVectorizer(stop_words='english', max_features=200)\n",
    " \n",
    "# fit and transform the processed data column\n",
    "dtm_tfidf = tfidf_vectorizer.fit_transform(processed_df[processed_data_column].astype(str))\n",
    " \n",
    "# converting it to a data frame\n",
    "dtm_tfidf_df = pd.DataFrame(dtm_tfidf.toarray(), columns=tfidf_vectorizer.get_feature_names_out())\n",
    " \n",
    "# printing the data frame obtained\n",
    "print(dtm_tfidf_df)"
   ]
  }
 ],
 "metadata": {
  "kernelspec": {
   "display_name": "Python 3 (ipykernel)",
   "language": "python",
   "name": "python3"
  },
  "language_info": {
   "codemirror_mode": {
    "name": "ipython",
    "version": 3
   },
   "file_extension": ".py",
   "mimetype": "text/x-python",
   "name": "python",
   "nbconvert_exporter": "python",
   "pygments_lexer": "ipython3",
   "version": "3.11.7"
  }
 },
 "nbformat": 4,
 "nbformat_minor": 5
}
