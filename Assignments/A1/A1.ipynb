{
 "cells": [
  {
   "cell_type": "code",
   "execution_count": 1,
   "id": "1d211f49-6022-407b-b213-19c67d6f07d8",
   "metadata": {},
   "outputs": [
    {
     "name": "stdout",
     "output_type": "stream",
     "text": [
      "                                          pn_history\n",
      "0  17-year-old male, has come to the student heal...\n",
      "1  17 yo male with recurrent palpitations for the...\n",
      "2  Dillon Cleveland is a 17 y.o. male patient wit...\n",
      "3  a 17 yo m c/o palpitation started 3 mos ago; \\...\n",
      "4  17yo male with no pmh here for evaluation of p...\n",
      "5  17 yo m, presenting with palpitations/increase...\n",
      "6  17 yo male presents with 3-4 month history of ...\n",
      "7  17 yo male presents with a 2-3 month history o...\n",
      "8  HPI: 17 YO complains of intermittent heart pal...\n",
      "9  Mr. Cleveland is a 17 yo M who presents to cli...\n"
     ]
    }
   ],
   "source": [
    "import pandas as pd\n",
    "import re\n",
    "from symspellpy import SymSpell, Verbosity\n",
    "import pkg_resources\n",
    "\n",
    "df = pd.read_csv('data/patient_notes.csv', usecols=[2], encoding='utf-8')\n",
    "\n",
    "print(df[:10])"
   ]
  },
  {
   "cell_type": "code",
   "execution_count": 2,
   "id": "b6c115a5-5cb0-4ecb-8ed1-267a783c8831",
   "metadata": {},
   "outputs": [
    {
     "name": "stdout",
     "output_type": "stream",
     "text": [
      "                                           pn_history\n",
      "0   17-year-old male, has come to the student heal...\n",
      "1   17 yo male with recurrent palpitations for the...\n",
      "2   Dillon Cleveland is a 17 y.o. male patient wit...\n",
      "3   a 17 yo m c/o palpitation started 3 mos ago; \\...\n",
      "4   17yo male with no pmh here for evaluation of p...\n",
      "5   17 yo m, presenting with palpitations/increase...\n",
      "6   17 yo male presents with 3-4 month history of ...\n",
      "7   17 yo male presents with a 2-3 month history o...\n",
      "8   HPI: 17 YO complains of intermittent heart pal...\n",
      "9   Mr. Cleveland is a 17 yo M who presents to cli...\n",
      "10  Mr. Cleveland is a 17 year old male with no si...\n",
      "11  Dillon Cleveland is a 17 year old male with no...\n",
      "12  Patient is a 17 yo male presenting to student ...\n",
      "13  17 yr old boy complaining of heart pounding fo...\n",
      "14  17 year old male with no significant PMH. Comp...\n",
      "15  Mr. Cleveland is a 17 yo male who presents tod...\n",
      "16  HPI: 17yo M presents with palpitations. Patien...\n",
      "17  17 yo male presents with 2-3 months of \"poundi...\n",
      "18  HPI Mr. Cleveland is a 17yo male presenting fo...\n",
      "19  17yo M presents with heart palpitations. He ha...\n"
     ]
    }
   ],
   "source": [
    "# print(df['pn_history'])\n",
    "print(df[:20])"
   ]
  },
  {
   "cell_type": "code",
   "execution_count": 3,
   "id": "db0dc1d9-f7a1-49f3-98d2-e44a0404fec8",
   "metadata": {},
   "outputs": [],
   "source": [
    "df['pn_history'] = df['pn_history'].apply(lambda x: x.lower())"
   ]
  },
  {
   "cell_type": "code",
   "execution_count": 4,
   "id": "15bb5159-a776-4231-9c24-b826fa1c0978",
   "metadata": {},
   "outputs": [],
   "source": [
    "df['pn_history'] = df['pn_history'].apply(lambda x: re.sub(r'[!@#$%^&*()_+=\\-~`;:\\'\",.<>/?|\\\\]', '', x))"
   ]
  },
  {
   "cell_type": "code",
   "execution_count": 5,
   "id": "534a88b9-1802-4812-b16a-10574844081c",
   "metadata": {},
   "outputs": [],
   "source": [
    "df['pn_history'] = df['pn_history'].apply(lambda x: re.sub(r'(\\d{1,2})/(\\d{1,2})/(\\d{4})', r'\\2-\\1-\\3', x))"
   ]
  },
  {
   "cell_type": "code",
   "execution_count": 6,
   "id": "5c522abc-6576-4983-9766-2d0f0c2a7bfd",
   "metadata": {},
   "outputs": [],
   "source": [
    "import contractions\n",
    "\n",
    "df['pn_history'] = df['pn_history'].apply(lambda x: contractions.fix(x))"
   ]
  },
  {
   "cell_type": "code",
   "execution_count": 7,
   "id": "23c9036c-598a-42ef-b708-a7ebf54b0762",
   "metadata": {},
   "outputs": [
    {
     "name": "stderr",
     "output_type": "stream",
     "text": [
      "[nltk_data] Downloading package stopwords to\n",
      "[nltk_data]     C:\\Users\\harry\\AppData\\Roaming\\nltk_data...\n",
      "[nltk_data]   Package stopwords is already up-to-date!\n"
     ]
    }
   ],
   "source": [
    "import nltk\n",
    "from nltk.corpus import stopwords\n",
    "import pandas as pd\n",
    "\n",
    "nltk.download('stopwords')\n",
    "\n",
    "stop_words = set(stopwords.words('english'))\n",
    "additional_stopwords = {'is', 'of', 'an'}\n",
    "\n",
    "stop_words.update(additional_stopwords)\n",
    "df['stopwords_removed'] = df['pn_history'].apply(lambda x: ' '.join([word for word in x.split() if word.lower() not in stop_words]))"
   ]
  },
  {
   "cell_type": "code",
   "execution_count": 8,
   "id": "a773608b",
   "metadata": {},
   "outputs": [
    {
     "data": {
      "text/plain": [
       "'17yearold male has come to the student health clinic complaining of heart pounding mr clevelands mother has given verbal consent for a history physical examination and treatment\\r\\nbegan 23 months agosuddenintermittent for 2 dayslasting 34 minworseningnonallevaggrav\\r\\nassociated with dispnea on exersion and reststressed out about school\\r\\nreports fe feels like his heart is jumping out of his chest\\r\\nrosdenies chest paindyaphoresiswt losschillsfevernauseavomitingpedal edeam\\r\\npmhnonmeds aderol from a friendnkda\\r\\nfhfather had mi recentlymother has thyroid dz\\r\\nshnonsmokermariguana 56 months ago3 beers on the weekend basketball at school\\r\\nshno std'"
      ]
     },
     "execution_count": 8,
     "metadata": {},
     "output_type": "execute_result"
    }
   ],
   "source": [
    "df['pn_history'][0]"
   ]
  },
  {
   "cell_type": "code",
   "execution_count": 9,
   "id": "8697460f-fb4e-4f4c-8314-279d71d6161d",
   "metadata": {},
   "outputs": [
    {
     "data": {
      "text/plain": [
       "True"
      ]
     },
     "execution_count": 9,
     "metadata": {},
     "output_type": "execute_result"
    }
   ],
   "source": [
    "\n",
    "sym_spell = SymSpell(max_dictionary_edit_distance=2, prefix_length=7)\n",
    "dictionary_path = pkg_resources.resource_filename(\n",
    "    \"symspellpy\", \"frequency_dictionary_en_82_765.txt\"\n",
    ")\n",
    "sym_spell.load_dictionary( dictionary_path,term_index=0, count_index=1)"
   ]
  },
  {
   "cell_type": "code",
   "execution_count": null,
   "id": "a6269ed0",
   "metadata": {},
   "outputs": [],
   "source": [
    "def correct_spelling(text):\n",
    "    suggestions = sym_spell.lookup_compound(text, max_edit_distance=2)\n",
    "    return suggestions[0].term if suggestions else text\n",
    "\n",
    "df['corrected_notes'] = df['stopwords_removed'].apply(correct_spelling)"
   ]
  },
  {
   "cell_type": "code",
   "execution_count": null,
   "id": "83cdcc86-bcac-4dd9-a5e5-3966cda9141c",
   "metadata": {},
   "outputs": [],
   "source": [
    "df.to_csv('processed_notes.csv', index=False)"
   ]
  },
  {
   "cell_type": "code",
   "execution_count": 9,
   "id": "4051e4c6",
   "metadata": {},
   "outputs": [],
   "source": [
    "processed = pd.read_csv('data/processed_notes.csv')"
   ]
  },
  {
   "cell_type": "code",
   "execution_count": 10,
   "id": "bfe43686",
   "metadata": {},
   "outputs": [
    {
     "name": "stdout",
     "output_type": "stream",
     "text": [
      "Defaulting to user installation because normal site-packages is not writeable\n",
      "Collecting wordninja\n",
      "  Downloading wordninja-2.0.0.tar.gz (541 kB)\n",
      "     ---------------------------------------- 0.0/541.6 kB ? eta -:--:--\n",
      "      --------------------------------------- 10.2/541.6 kB ? eta -:--:--\n",
      "     -- ---------------------------------- 41.0/541.6 kB 330.3 kB/s eta 0:00:02\n",
      "     -------- --------------------------- 122.9/541.6 kB 901.1 kB/s eta 0:00:01\n",
      "     -------------------- ----------------- 286.7/541.6 kB 1.5 MB/s eta 0:00:01\n",
      "     -------------------------------------- 541.6/541.6 kB 2.4 MB/s eta 0:00:00\n",
      "  Preparing metadata (setup.py): started\n",
      "  Preparing metadata (setup.py): finished with status 'done'\n",
      "Building wheels for collected packages: wordninja\n",
      "  Building wheel for wordninja (setup.py): started\n",
      "  Building wheel for wordninja (setup.py): finished with status 'done'\n",
      "  Created wheel for wordninja: filename=wordninja-2.0.0-py3-none-any.whl size=541535 sha256=f2ff247c2d2d4257daf19a22cc76fc2ba7f24d73f35543046272449512c4b3aa\n",
      "  Stored in directory: c:\\users\\harry\\appdata\\local\\pip\\cache\\wheels\\e6\\66\\9c\\712044a983337f5d44f90abcd244bd4b8ad28ee64750404b50\n",
      "Successfully built wordninja\n",
      "Installing collected packages: wordninja\n",
      "Successfully installed wordninja-2.0.0\n"
     ]
    }
   ],
   "source": [
    "!pip install wordninja"
   ]
  },
  {
   "cell_type": "code",
   "execution_count": 13,
   "id": "aff252a8",
   "metadata": {},
   "outputs": [
    {
     "data": {
      "text/plain": [
       "['ago', 'sudden', 'intermittent']"
      ]
     },
     "execution_count": 13,
     "metadata": {},
     "output_type": "execute_result"
    }
   ],
   "source": [
    "wordninja.split('agosuddenintermittent')"
   ]
  }
 ],
 "metadata": {
  "kernelspec": {
   "display_name": "Python 3 (ipykernel)",
   "language": "python",
   "name": "python3"
  },
  "language_info": {
   "codemirror_mode": {
    "name": "ipython",
    "version": 3
   },
   "file_extension": ".py",
   "mimetype": "text/x-python",
   "name": "python",
   "nbconvert_exporter": "python",
   "pygments_lexer": "ipython3",
   "version": "3.11.5"
  }
 },
 "nbformat": 4,
 "nbformat_minor": 5
}
