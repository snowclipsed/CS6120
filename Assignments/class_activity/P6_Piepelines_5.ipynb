{
 "cells": [
  {
   "cell_type": "markdown",
   "metadata": {},
   "source": [
    "## Summarization"
   ]
  },
  {
   "cell_type": "code",
   "execution_count": 4,
   "metadata": {},
   "outputs": [
    {
     "name": "stderr",
     "output_type": "stream",
     "text": [
      "All PyTorch model weights were used when initializing TFT5ForConditionalGeneration.\n",
      "\n",
      "All the weights of TFT5ForConditionalGeneration were initialized from the PyTorch model.\n",
      "If your task is similar to the task the model of the checkpoint was trained on, you can already use TFT5ForConditionalGeneration for predictions without further training.\n",
      "/Users/aishwaryaravichandran/.virtualenvs/sentiment_analysis_env/lib/python3.11/site-packages/transformers/generation/configuration_utils.py:410: UserWarning: `do_sample` is set to `False`. However, `temperature` is set to `0.7` -- this flag is only used in sample-based generation modes. You should set `do_sample=True` or unset `temperature`.\n",
      "  warnings.warn(\n",
      "/Users/aishwaryaravichandran/.virtualenvs/sentiment_analysis_env/lib/python3.11/site-packages/transformers/generation/configuration_utils.py:415: UserWarning: `do_sample` is set to `False`. However, `top_p` is set to `0.92` -- this flag is only used in sample-based generation modes. You should set `do_sample=True` or unset `top_p`.\n",
      "  warnings.warn(\n"
     ]
    }
   ],
   "source": [
    "# --------------------\n",
    "# Import pipeline\n",
    "# --------------------\n",
    "from huggingface_hub    import HfApi\n",
    "api = HfApi()\n",
    "\n",
    "from transformers import pipeline\n",
    "import pandas as pd\n",
    "\n",
    "summary1 = pipeline(task=\"summarization\", model=\"t5-small\")\n",
    "\n",
    "# summary2 = pipeline(task=\"summarization\", model=\"sshleifer/distilbart-cnn-12-6\")\n",
    "\n",
    "text = '''The final chapter of winter has been written and it’s the story of a season that didn’t live up to its name.This winter was the warmest on record for the Lower 48, NOAA’s National Centers for Environmental Information said Friday. Records date to the late 1800s.\n",
    "\n",
    "The record warmth has left vast areas of the country without typical amounts of snow and ice, fueling a worsening drought in the Midwest and disrupting local economies.\n",
    "\n",
    "It’s another clear signal that global temperatures are on the rise due to human-caused planet-warming emissions.\n",
    "\n",
    "Five of the 10 warmest winters on record in the US have occurred in the last 20 years as winter has become the fastest-warming season for nearly 75% of the country.\n",
    "\n",
    "\n",
    "A normal winter was hard to come by, according to an index from the Midwest Regional Climate Center which tracks the aggregate toll of cold and snow at hundreds of locations across the country.\n",
    "\n",
    "Places with more cold and snow have “severe” or even “extreme” winters as it builds over time, whereas locations with less of both experience mild winters. Dozens of locations have experienced the mildest winter since 1950.\n",
    "\n",
    "Winter warmth started off at a blistering pace. December was the warmest on record for the Lower 48, a full 7.3 degrees Fahrenheit above average. Aside from one brutal cold spell in January, it continued through the season, with February finishing as the third-warmest on record.\n",
    "\n",
    "Unusual February heat wasn’t limited to the US. February was the Earth’s hottest on record, marking the ninth month in a row global records tumbled, according to Copernicus, the European Union’s climate monitoring service.\n",
    "\n",
    "In the US, a classic El Niño pattern had a strong hand in amplifying temperatures, particularly in the Midwest and Northeast where winter felt more like spring.\n",
    "\n",
    "Eight states experienced a record-warm winter: North Dakota, Minnesota, Iowa, Wisconsin, Michigan, New York, Vermont and New Hampshire.\n",
    "\n",
    "Temperatures were several degrees above normal in dozens of cities from the north-central US to the Northeast – another clear indicator of exceptional warmth.'''\n",
    "\n",
    "output = summary1(text,min_length=30,  max_length=130, do_sample=False, early_stopping=True, \n",
    "                temperature=0.7, top_k=50, top_p=0.92,\n",
    "                  no_repeat_ngram_size=3, length_penalty=2.0,\n",
    "                    num_return_sequences=3, truncation=True, pad_token_id=50256, decoder_start_token_id=0, use_cache=True)\n",
    "\n"
   ]
  },
  {
   "cell_type": "code",
   "execution_count": 5,
   "metadata": {},
   "outputs": [
    {
     "data": {
      "text/plain": [
       "[{'summary_text': 'this winter was the warmest on record for the Lower 48 . the record warmth has left vast areas without typical amounts of snow and ice, fueling a worsening drought in the Midwest and disrupting local economies .'},\n",
       " {'summary_text': 'this winter was the warmest on record for the Lower 48 . the record warmth has left vast areas of the country without typical amounts of snow and ice . it’s another clear signal that global temperatures are on the rise .'},\n",
       " {'summary_text': 'this winter was the warmest on record for the Lower 48 . the record warmth has left vast areas of the country without typical amounts of snow and ice, fueling a worsening drought in the Midwest .'}]"
      ]
     },
     "execution_count": 5,
     "metadata": {},
     "output_type": "execute_result"
    }
   ],
   "source": [
    "output"
   ]
  }
 ],
 "metadata": {
  "kernelspec": {
   "display_name": "Keras3",
   "language": "python",
   "name": "python3"
  },
  "language_info": {
   "codemirror_mode": {
    "name": "ipython",
    "version": 3
   },
   "file_extension": ".py",
   "mimetype": "text/x-python",
   "name": "python",
   "nbconvert_exporter": "python",
   "pygments_lexer": "ipython3",
   "version": "3.11.7"
  }
 },
 "nbformat": 4,
 "nbformat_minor": 2
}
