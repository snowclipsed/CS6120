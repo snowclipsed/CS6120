{
 "cells": [
  {
   "cell_type": "markdown",
   "metadata": {},
   "source": [
    "## Pipelines API"
   ]
  },
  {
   "cell_type": "markdown",
   "metadata": {},
   "source": [
    "### Importing the Pipeline\n",
    "\n",
    "### Select a Task\n",
    "\n",
    "### Load the Pipeline\n",
    "\n",
    "### Run the Pipeline"
   ]
  },
  {
   "cell_type": "code",
   "execution_count": 46,
   "metadata": {},
   "outputs": [
    {
     "name": "stderr",
     "output_type": "stream",
     "text": [
      "No model was supplied, defaulted to distilbert/distilbert-base-uncased-finetuned-sst-2-english and revision af0f99b (https://huggingface.co/distilbert/distilbert-base-uncased-finetuned-sst-2-english).\n",
      "Using a pipeline without specifying a model name and revision in production is not recommended.\n",
      "All PyTorch model weights were used when initializing TFDistilBertForSequenceClassification.\n",
      "\n",
      "All the weights of TFDistilBertForSequenceClassification were initialized from the PyTorch model.\n",
      "If your task is similar to the task the model of the checkpoint was trained on, you can already use TFDistilBertForSequenceClassification for predictions without further training.\n",
      "All PyTorch model weights were used when initializing TFDistilBertForSequenceClassification.\n",
      "\n",
      "All the weights of TFDistilBertForSequenceClassification were initialized from the PyTorch model.\n",
      "If your task is similar to the task the model of the checkpoint was trained on, you can already use TFDistilBertForSequenceClassification for predictions without further training.\n"
     ]
    },
    {
     "name": "stdout",
     "output_type": "stream",
     "text": [
      "Sentiment from task_pipeline: NEGATIVE; Sentiment from model_pipeline: NEGATIVE\n"
     ]
    }
   ],
   "source": [
    "# --------------------\n",
    "# Import pipeline\n",
    "# --------------------\n",
    "from transformers import pipeline\n",
    "\n",
    "# --------------------\n",
    "# Create the task pipeline\n",
    "# --------------------\n",
    "task_pipeline = pipeline(task=\"sentiment-analysis\")\n",
    "\n",
    "# --------------------\n",
    "# Create the model pipeline\n",
    "# --------------------\n",
    "model_pipeline = pipeline(model=\"distilbert-base-uncased-finetuned-sst-2-english\")\n",
    "\n",
    "text = \"this a non sentence. I am not sure what to do with it.\"\n",
    "\n",
    "# --------------------\n",
    "# Predict the sentiment\n",
    "# --------------------\n",
    "task_output = task_pipeline(text)\n",
    "model_output = model_pipeline(text)\n",
    "\n",
    "print(f\"Sentiment from task_pipeline: {task_output[0]['label']}; Sentiment from model_pipeline: {model_output[0]['label']}\")"
   ]
  },
  {
   "cell_type": "markdown",
   "metadata": {},
   "source": [
    "### Multiple Sentences"
   ]
  },
  {
   "cell_type": "code",
   "execution_count": 47,
   "metadata": {},
   "outputs": [
    {
     "name": "stdout",
     "output_type": "stream",
     "text": [
      "      label     score                                               text\n",
      "0  NEGATIVE  0.999614  this a non sentence. I am not sure what to do ...\n",
      "1  POSITIVE  0.999875                              I am happy to be here\n"
     ]
    }
   ],
   "source": [
    "text1 = [\"this a non sentence. I am not sure what to do with it.\", \"I am happy to be here\"]\n",
    "\n",
    "# Predict the sentiment of multiple sentences\n",
    "task_output = task_pipeline(text1)\n",
    "model_output = model_pipeline(text1)\n",
    "\n",
    "import pandas as pd\n",
    "# convert the output to a dataframe including the text\n",
    "df = pd.DataFrame(task_output)\n",
    "df[\"text\"] = text1\n",
    "print(df)\n",
    "\n"
   ]
  },
  {
   "cell_type": "markdown",
   "metadata": {},
   "source": [
    "### Using a different model other than the default model"
   ]
  },
  {
   "cell_type": "code",
   "execution_count": null,
   "metadata": {},
   "outputs": [],
   "source": [
    "distilbert_pipeline = pipeline(model=\"distilbert-base-uncased\", task=\"sentiment-analysis\")\n",
    "distilbert_output = distilbert_pipeline(text1)\n",
    "df_2 = pd.DataFrame(distilbert_output)\n",
    "df_2[\"text\"] = text1\n",
    "\n",
    "\n",
    "# -------------------\n",
    "# And another model \n",
    "# -------------------\n",
    "bert_pipeline = pipeline(model=\"kwang123/bert-sentiment-analysis\", task=\"sentiment-analysis\")\n",
    "bert_output = bert_pipeline(text1)\n",
    "df_3 = pd.DataFrame(bert_output)\n",
    "df_3[\"text\"] = text1\n",
    "\n",
    "\n",
    "print(df_2)\n",
    "print(df_3)\n"
   ]
  },
  {
   "cell_type": "markdown",
   "metadata": {},
   "source": [
    "### Import a small random subset of the sentinments df (1000 reviews)"
   ]
  },
  {
   "cell_type": "code",
   "execution_count": 50,
   "metadata": {},
   "outputs": [
    {
     "data": {
      "text/plain": [
       "(210000, 9)"
      ]
     },
     "execution_count": 50,
     "metadata": {},
     "output_type": "execute_result"
    }
   ],
   "source": [
    "ds = pd.read_csv('/Users/aishwaryaravichandran/Documents/nlp/nlp_assignment_0_group_work/CS6120/Assignments/A3/review_set.csv')\n",
    "ds.shape\n"
   ]
  },
  {
   "cell_type": "code",
   "execution_count": 51,
   "metadata": {},
   "outputs": [
    {
     "data": {
      "text/plain": [
       "(1000, 9)"
      ]
     },
     "execution_count": 51,
     "metadata": {},
     "output_type": "execute_result"
    }
   ],
   "source": [
    "subset = ds.head(1000).copy()\n",
    "subset.shape"
   ]
  },
  {
   "cell_type": "code",
   "execution_count": 52,
   "metadata": {},
   "outputs": [
    {
     "name": "stdout",
     "output_type": "stream",
     "text": [
      "object\n"
     ]
    }
   ],
   "source": [
    "column_dtype = subset['review'].dtype\n",
    "print(column_dtype)"
   ]
  },
  {
   "cell_type": "markdown",
   "metadata": {},
   "source": [
    "### Apply Sentiment analysis on 10, 100 and then 1000 reviews and extrapolate the time it would take for a large (1M) number of reviews"
   ]
  },
  {
   "cell_type": "code",
   "execution_count": 53,
   "metadata": {},
   "outputs": [
    {
     "name": "stderr",
     "output_type": "stream",
     "text": [
      "No model was supplied, defaulted to distilbert/distilbert-base-uncased-finetuned-sst-2-english and revision af0f99b (https://huggingface.co/distilbert/distilbert-base-uncased-finetuned-sst-2-english).\n",
      "Using a pipeline without specifying a model name and revision in production is not recommended.\n",
      "All PyTorch model weights were used when initializing TFDistilBertForSequenceClassification.\n",
      "\n",
      "All the weights of TFDistilBertForSequenceClassification were initialized from the PyTorch model.\n",
      "If your task is similar to the task the model of the checkpoint was trained on, you can already use TFDistilBertForSequenceClassification for predictions without further training.\n",
      "All PyTorch model weights were used when initializing TFDistilBertForSequenceClassification.\n",
      "\n",
      "All the weights of TFDistilBertForSequenceClassification were initialized from the PyTorch model.\n",
      "If your task is similar to the task the model of the checkpoint was trained on, you can already use TFDistilBertForSequenceClassification for predictions without further training.\n"
     ]
    },
    {
     "name": "stdout",
     "output_type": "stream",
     "text": [
      "0    NEGATIVE\n",
      "1    NEGATIVE\n",
      "2    NEGATIVE\n",
      "3    NEGATIVE\n",
      "4    NEGATIVE\n",
      "5    NEGATIVE\n",
      "6    NEGATIVE\n",
      "7    NEGATIVE\n",
      "8    POSITIVE\n",
      "9    POSITIVE\n",
      "Name: sentiment_analysis, dtype: object\n"
     ]
    },
    {
     "name": "stderr",
     "output_type": "stream",
     "text": [
      "/var/folders/nb/sgb5l3c56gx84mnvsmg95cz00000gn/T/ipykernel_5430/3919012198.py:19: SettingWithCopyWarning: \n",
      "A value is trying to be set on a copy of a slice from a DataFrame.\n",
      "Try using .loc[row_indexer,col_indexer] = value instead\n",
      "\n",
      "See the caveats in the documentation: https://pandas.pydata.org/pandas-docs/stable/user_guide/indexing.html#returning-a-view-versus-a-copy\n",
      "  result_10['sentiment_analysis'] = sentiment_scores\n"
     ]
    }
   ],
   "source": [
    "task_pipeline = pipeline(task=\"sentiment-analysis\")\n",
    "\n",
    "model_pipeline = pipeline(model=\"distilbert-base-uncased-finetuned-sst-2-english\")\n",
    "\n",
    "subset['review'] = subset['review'].astype(str)\n",
    "\n",
    "subset['review'] = subset['review'].replace('None', pd.NA)\n",
    "subset['review'] = subset['review'].dropna()\n",
    "\n",
    "result_10 = subset.head(10)\n",
    "\n",
    "sentiment_scores = []\n",
    "\n",
    "for review in result_10['review']:\n",
    "    # Perform sentiment analysis using the pipeline\n",
    "    sentiment_result = task_pipeline(review[0:501])\n",
    "    sentiment_scores.append(sentiment_result[0]['label'])\n",
    "\n",
    "result_10['sentiment_analysis'] = sentiment_scores\n",
    "\n",
    "output_10 = result_10['sentiment_analysis']\n",
    "\n",
    "print(output_10)"
   ]
  },
  {
   "cell_type": "code",
   "execution_count": 54,
   "metadata": {},
   "outputs": [
    {
     "name": "stdout",
     "output_type": "stream",
     "text": [
      "0     NEGATIVE\n",
      "1     NEGATIVE\n",
      "2     NEGATIVE\n",
      "3     NEGATIVE\n",
      "4     NEGATIVE\n",
      "        ...   \n",
      "95    NEGATIVE\n",
      "96    NEGATIVE\n",
      "97    NEGATIVE\n",
      "98    NEGATIVE\n",
      "99    POSITIVE\n",
      "Name: sentiment_analysis, Length: 100, dtype: object\n"
     ]
    },
    {
     "name": "stderr",
     "output_type": "stream",
     "text": [
      "/var/folders/nb/sgb5l3c56gx84mnvsmg95cz00000gn/T/ipykernel_5430/680396367.py:10: SettingWithCopyWarning: \n",
      "A value is trying to be set on a copy of a slice from a DataFrame.\n",
      "Try using .loc[row_indexer,col_indexer] = value instead\n",
      "\n",
      "See the caveats in the documentation: https://pandas.pydata.org/pandas-docs/stable/user_guide/indexing.html#returning-a-view-versus-a-copy\n",
      "  result_100['sentiment_analysis'] = sentiment_scores\n"
     ]
    }
   ],
   "source": [
    "result_100 = subset.head(100)\n",
    "\n",
    "sentiment_scores = []\n",
    "\n",
    "for review in result_100['review']:\n",
    "    # Perform sentiment analysis using the pipeline\n",
    "    sentiment_result = task_pipeline(review[0:501])\n",
    "    sentiment_scores.append(sentiment_result[0]['label'])\n",
    "\n",
    "result_100['sentiment_analysis'] = sentiment_scores\n",
    "\n",
    "output_100 = result_100['sentiment_analysis']\n",
    "\n",
    "print(output_100)"
   ]
  },
  {
   "cell_type": "code",
   "execution_count": 55,
   "metadata": {},
   "outputs": [
    {
     "name": "stdout",
     "output_type": "stream",
     "text": [
      "0      NEGATIVE\n",
      "1      NEGATIVE\n",
      "2      NEGATIVE\n",
      "3      NEGATIVE\n",
      "4      NEGATIVE\n",
      "         ...   \n",
      "995    NEGATIVE\n",
      "996    NEGATIVE\n",
      "997    NEGATIVE\n",
      "998    POSITIVE\n",
      "999    POSITIVE\n",
      "Name: sentiment_analysis, Length: 1000, dtype: object\n"
     ]
    },
    {
     "name": "stderr",
     "output_type": "stream",
     "text": [
      "/var/folders/nb/sgb5l3c56gx84mnvsmg95cz00000gn/T/ipykernel_5430/1886677432.py:10: SettingWithCopyWarning: \n",
      "A value is trying to be set on a copy of a slice from a DataFrame.\n",
      "Try using .loc[row_indexer,col_indexer] = value instead\n",
      "\n",
      "See the caveats in the documentation: https://pandas.pydata.org/pandas-docs/stable/user_guide/indexing.html#returning-a-view-versus-a-copy\n",
      "  result_1000['sentiment_analysis'] = sentiment_scores\n"
     ]
    }
   ],
   "source": [
    "result_1000 = subset.head(1000)\n",
    "\n",
    "sentiment_scores = []\n",
    "\n",
    "for review in result_1000['review']:\n",
    "    # Perform sentiment analysis using the pipeline\n",
    "    sentiment_result = task_pipeline(review[0:501])\n",
    "    sentiment_scores.append(sentiment_result[0]['label'])\n",
    "\n",
    "result_1000['sentiment_analysis'] = sentiment_scores\n",
    "\n",
    "output_1000 = result_1000['sentiment_analysis']\n",
    "\n",
    "print(output_1000)"
   ]
  },
  {
   "cell_type": "markdown",
   "metadata": {},
   "source": [
    "### Find another model on the portal and repeat the above step"
   ]
  },
  {
   "cell_type": "code",
   "execution_count": 56,
   "metadata": {},
   "outputs": [
    {
     "name": "stderr",
     "output_type": "stream",
     "text": [
      "All PyTorch model weights were used when initializing TFDistilBertForSequenceClassification.\n",
      "\n",
      "All the weights of TFDistilBertForSequenceClassification were initialized from the PyTorch model.\n",
      "If your task is similar to the task the model of the checkpoint was trained on, you can already use TFDistilBertForSequenceClassification for predictions without further training.\n"
     ]
    },
    {
     "name": "stdout",
     "output_type": "stream",
     "text": [
      "0    NEGATIVE\n",
      "1    NEGATIVE\n",
      "2    NEGATIVE\n",
      "3    NEGATIVE\n",
      "4    NEGATIVE\n",
      "5    NEGATIVE\n",
      "6    NEGATIVE\n",
      "7    NEGATIVE\n",
      "8    POSITIVE\n",
      "9    POSITIVE\n",
      "Name: sentiment_analysis, dtype: object\n"
     ]
    },
    {
     "name": "stderr",
     "output_type": "stream",
     "text": [
      "/var/folders/nb/sgb5l3c56gx84mnvsmg95cz00000gn/T/ipykernel_5430/2271037002.py:12: SettingWithCopyWarning: \n",
      "A value is trying to be set on a copy of a slice from a DataFrame.\n",
      "Try using .loc[row_indexer,col_indexer] = value instead\n",
      "\n",
      "See the caveats in the documentation: https://pandas.pydata.org/pandas-docs/stable/user_guide/indexing.html#returning-a-view-versus-a-copy\n",
      "  result_10['sentiment_analysis'] = sentiment_scores\n"
     ]
    }
   ],
   "source": [
    "model_pipeline = pipeline(model=\"distilbert-base-uncased-finetuned-sst-2-english\")\n",
    "\n",
    "result_10 = subset.head(10)\n",
    "\n",
    "sentiment_scores = []\n",
    "\n",
    "for review in result_10['review']:\n",
    "    # Perform sentiment analysis using the pipeline\n",
    "    sentiment_result = model_pipeline(review[0:501])\n",
    "    sentiment_scores.append(sentiment_result[0]['label'])\n",
    "\n",
    "result_10['sentiment_analysis'] = sentiment_scores\n",
    "\n",
    "output_10 = result_10['sentiment_analysis']\n",
    "\n",
    "print(output_10)"
   ]
  },
  {
   "cell_type": "code",
   "execution_count": 57,
   "metadata": {},
   "outputs": [
    {
     "name": "stdout",
     "output_type": "stream",
     "text": [
      "0     NEGATIVE\n",
      "1     NEGATIVE\n",
      "2     NEGATIVE\n",
      "3     NEGATIVE\n",
      "4     NEGATIVE\n",
      "        ...   \n",
      "95    NEGATIVE\n",
      "96    NEGATIVE\n",
      "97    NEGATIVE\n",
      "98    NEGATIVE\n",
      "99    POSITIVE\n",
      "Name: sentiment_analysis, Length: 100, dtype: object\n"
     ]
    },
    {
     "name": "stderr",
     "output_type": "stream",
     "text": [
      "/var/folders/nb/sgb5l3c56gx84mnvsmg95cz00000gn/T/ipykernel_5430/680396367.py:10: SettingWithCopyWarning: \n",
      "A value is trying to be set on a copy of a slice from a DataFrame.\n",
      "Try using .loc[row_indexer,col_indexer] = value instead\n",
      "\n",
      "See the caveats in the documentation: https://pandas.pydata.org/pandas-docs/stable/user_guide/indexing.html#returning-a-view-versus-a-copy\n",
      "  result_100['sentiment_analysis'] = sentiment_scores\n"
     ]
    }
   ],
   "source": [
    "result_100 = subset.head(100)\n",
    "\n",
    "sentiment_scores = []\n",
    "\n",
    "for review in result_100['review']:\n",
    "    # Perform sentiment analysis using the pipeline\n",
    "    sentiment_result = task_pipeline(review[0:501])\n",
    "    sentiment_scores.append(sentiment_result[0]['label'])\n",
    "\n",
    "result_100['sentiment_analysis'] = sentiment_scores\n",
    "\n",
    "output_100 = result_100['sentiment_analysis']\n",
    "\n",
    "print(output_100)"
   ]
  },
  {
   "cell_type": "code",
   "execution_count": 58,
   "metadata": {},
   "outputs": [
    {
     "name": "stdout",
     "output_type": "stream",
     "text": [
      "0      NEGATIVE\n",
      "1      NEGATIVE\n",
      "2      NEGATIVE\n",
      "3      NEGATIVE\n",
      "4      NEGATIVE\n",
      "         ...   \n",
      "995    NEGATIVE\n",
      "996    NEGATIVE\n",
      "997    NEGATIVE\n",
      "998    POSITIVE\n",
      "999    POSITIVE\n",
      "Name: sentiment_analysis, Length: 1000, dtype: object\n"
     ]
    },
    {
     "name": "stderr",
     "output_type": "stream",
     "text": [
      "/var/folders/nb/sgb5l3c56gx84mnvsmg95cz00000gn/T/ipykernel_5430/384120988.py:10: SettingWithCopyWarning: \n",
      "A value is trying to be set on a copy of a slice from a DataFrame.\n",
      "Try using .loc[row_indexer,col_indexer] = value instead\n",
      "\n",
      "See the caveats in the documentation: https://pandas.pydata.org/pandas-docs/stable/user_guide/indexing.html#returning-a-view-versus-a-copy\n",
      "  result_1000['sentiment_analysis'] = sentiment_scores\n"
     ]
    }
   ],
   "source": [
    "result_1000 = subset.head(1000)\n",
    "\n",
    "sentiment_scores = []\n",
    "\n",
    "for review in result_1000['review']:\n",
    "    # Perform sentiment analysis using the pipeline\n",
    "    sentiment_result = task_pipeline(review[0:501])\n",
    "    sentiment_scores.append(sentiment_result[0]['label'])\n",
    "\n",
    "result_1000['sentiment_analysis'] = sentiment_scores\n",
    "\n",
    "output_1000 = result_1000['sentiment_analysis']\n",
    "\n",
    "print(output_1000)\n"
   ]
  },
  {
   "cell_type": "markdown",
   "metadata": {},
   "source": []
  }
 ],
 "metadata": {
  "kernelspec": {
   "display_name": "Keras3",
   "language": "python",
   "name": "python3"
  },
  "language_info": {
   "codemirror_mode": {
    "name": "ipython",
    "version": 3
   },
   "file_extension": ".py",
   "mimetype": "text/x-python",
   "name": "python",
   "nbconvert_exporter": "python",
   "pygments_lexer": "ipython3",
   "version": "3.11.7"
  }
 },
 "nbformat": 4,
 "nbformat_minor": 2
}
