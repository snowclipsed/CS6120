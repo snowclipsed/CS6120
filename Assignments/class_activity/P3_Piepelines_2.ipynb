{
 "cells": [
  {
   "cell_type": "markdown",
   "metadata": {},
   "source": [
    "### Feature extraction: Vector representation"
   ]
  },
  {
   "cell_type": "code",
   "execution_count": 2,
   "metadata": {},
   "outputs": [
    {
     "name": "stderr",
     "output_type": "stream",
     "text": [
      "Some weights of the PyTorch model were not used when initializing the TF 2.0 model TFDistilBertModel: ['vocab_layer_norm.bias', 'vocab_transform.bias', 'vocab_projector.bias', 'vocab_transform.weight', 'vocab_layer_norm.weight']\n",
      "- This IS expected if you are initializing TFDistilBertModel from a PyTorch model trained on another task or with another architecture (e.g. initializing a TFBertForSequenceClassification model from a BertForPreTraining model).\n",
      "- This IS NOT expected if you are initializing TFDistilBertModel from a PyTorch model that you expect to be exactly identical (e.g. initializing a TFBertForSequenceClassification model from a BertForSequenceClassification model).\n",
      "All the weights of TFDistilBertModel were initialized from the PyTorch model.\n",
      "If your task is similar to the task the model of the checkpoint was trained on, you can already use TFDistilBertModel for predictions without further training.\n"
     ]
    },
    {
     "data": {
      "text/plain": [
       "2"
      ]
     },
     "execution_count": 2,
     "metadata": {},
     "output_type": "execute_result"
    }
   ],
   "source": [
    "# --------------------\n",
    "# Import pipeline\n",
    "# --------------------\n",
    "from transformers import pipeline\n",
    "\n",
    "text1 = [\"this a non sentence. I am not sure what to do with it.\", \"I am happy to be here\"]\n",
    "\n",
    "\n",
    "feature_extraction_pipeline = pipeline(model=\"distilbert-base-uncased\", task=\"feature-extraction\")\n",
    "output = feature_extraction_pipeline(text1)\n",
    "# print(output[0])\n",
    "# print(output[1].shape)\n",
    "\n",
    "len(output)\n",
    "\n"
   ]
  },
  {
   "cell_type": "markdown",
   "metadata": {},
   "source": [
    "### output object is a list of lists. Explore it further and find out the dimensions of the word embeddings"
   ]
  },
  {
   "cell_type": "code",
   "execution_count": 3,
   "metadata": {},
   "outputs": [
    {
     "name": "stdout",
     "output_type": "stream",
     "text": [
      "Number of sentences: 2\n",
      "Dimensions of word embeddings for sentence 1: 1 words with embedding dimension 17\n",
      "Dimensions of word embeddings for sentence 2: 1 words with embedding dimension 8\n"
     ]
    }
   ],
   "source": [
    "# Length of the output list (number of sentences)\n",
    "num_sentences = len(output)\n",
    "print(\"Number of sentences:\", num_sentences)\n",
    "\n",
    "# Dimensions of word embeddings for each sentence\n",
    "for i, sentence_embeddings in enumerate(output):\n",
    "    num_words = len(sentence_embeddings)\n",
    "    embedding_dim = len(sentence_embeddings[0])\n",
    "    print(f\"Dimensions of word embeddings for sentence {i+1}: {num_words} words with embedding dimension {embedding_dim}\")\n"
   ]
  },
  {
   "cell_type": "code",
   "execution_count": 6,
   "metadata": {},
   "outputs": [
    {
     "data": {
      "text/plain": [
       "(1000, 9)"
      ]
     },
     "execution_count": 6,
     "metadata": {},
     "output_type": "execute_result"
    }
   ],
   "source": [
    "import pandas as pd\n",
    "\n",
    "ds = pd.read_csv('/Users/aishwaryaravichandran/Documents/nlp/nlp_assignment_0_group_work/CS6120/Assignments/A3/review_set.csv')\n",
    "subset = ds.head(1000).copy()\n",
    "subset.shape"
   ]
  },
  {
   "cell_type": "code",
   "execution_count": 14,
   "metadata": {},
   "outputs": [
    {
     "name": "stdout",
     "output_type": "stream",
     "text": [
      "Dimensions of word embeddings : 20 words with embedding dimension 768\n",
      "Dimensions of word embeddings : 21 words with embedding dimension 768\n",
      "Dimensions of word embeddings : 69 words with embedding dimension 768\n",
      "Dimensions of word embeddings : 13 words with embedding dimension 768\n",
      "Dimensions of word embeddings : 30 words with embedding dimension 768\n",
      "Dimensions of word embeddings : 75 words with embedding dimension 768\n",
      "Dimensions of word embeddings : 16 words with embedding dimension 768\n",
      "Dimensions of word embeddings : 46 words with embedding dimension 768\n",
      "Dimensions of word embeddings : 10 words with embedding dimension 768\n",
      "Dimensions of word embeddings : 30 words with embedding dimension 768\n",
      "Dimensions of word embeddings : 80 words with embedding dimension 768\n",
      "Dimensions of word embeddings : 11 words with embedding dimension 768\n",
      "Dimensions of word embeddings : 81 words with embedding dimension 768\n",
      "Dimensions of word embeddings : 87 words with embedding dimension 768\n",
      "Dimensions of word embeddings : 62 words with embedding dimension 768\n",
      "Dimensions of word embeddings : 21 words with embedding dimension 768\n",
      "Dimensions of word embeddings : 86 words with embedding dimension 768\n",
      "Dimensions of word embeddings : 35 words with embedding dimension 768\n",
      "Dimensions of word embeddings : 41 words with embedding dimension 768\n",
      "Dimensions of word embeddings : 6 words with embedding dimension 768\n",
      "Dimensions of word embeddings : 35 words with embedding dimension 768\n",
      "Dimensions of word embeddings : 21 words with embedding dimension 768\n",
      "Dimensions of word embeddings : 11 words with embedding dimension 768\n",
      "Dimensions of word embeddings : 61 words with embedding dimension 768\n",
      "Dimensions of word embeddings : 76 words with embedding dimension 768\n",
      "Dimensions of word embeddings : 8 words with embedding dimension 768\n",
      "Dimensions of word embeddings : 97 words with embedding dimension 768\n",
      "Dimensions of word embeddings : 26 words with embedding dimension 768\n",
      "Dimensions of word embeddings : 39 words with embedding dimension 768\n",
      "Dimensions of word embeddings : 47 words with embedding dimension 768\n",
      "Dimensions of word embeddings : 6 words with embedding dimension 768\n",
      "Dimensions of word embeddings : 80 words with embedding dimension 768\n",
      "Dimensions of word embeddings : 21 words with embedding dimension 768\n",
      "Dimensions of word embeddings : 53 words with embedding dimension 768\n",
      "Dimensions of word embeddings : 12 words with embedding dimension 768\n",
      "Dimensions of word embeddings : 7 words with embedding dimension 768\n",
      "Dimensions of word embeddings : 81 words with embedding dimension 768\n",
      "Dimensions of word embeddings : 19 words with embedding dimension 768\n",
      "Dimensions of word embeddings : 14 words with embedding dimension 768\n",
      "Dimensions of word embeddings : 16 words with embedding dimension 768\n",
      "Dimensions of word embeddings : 26 words with embedding dimension 768\n",
      "Dimensions of word embeddings : 34 words with embedding dimension 768\n",
      "Dimensions of word embeddings : 57 words with embedding dimension 768\n",
      "Dimensions of word embeddings : 8 words with embedding dimension 768\n",
      "Dimensions of word embeddings : 82 words with embedding dimension 768\n",
      "Dimensions of word embeddings : 34 words with embedding dimension 768\n",
      "Dimensions of word embeddings : 22 words with embedding dimension 768\n",
      "Dimensions of word embeddings : 10 words with embedding dimension 768\n",
      "Dimensions of word embeddings : 6 words with embedding dimension 768\n",
      "Dimensions of word embeddings : 56 words with embedding dimension 768\n",
      "Dimensions of word embeddings : 12 words with embedding dimension 768\n",
      "Dimensions of word embeddings : 86 words with embedding dimension 768\n",
      "Dimensions of word embeddings : 19 words with embedding dimension 768\n",
      "Dimensions of word embeddings : 66 words with embedding dimension 768\n",
      "Dimensions of word embeddings : 13 words with embedding dimension 768\n",
      "Dimensions of word embeddings : 28 words with embedding dimension 768\n",
      "Dimensions of word embeddings : 26 words with embedding dimension 768\n",
      "Dimensions of word embeddings : 36 words with embedding dimension 768\n",
      "Dimensions of word embeddings : 7 words with embedding dimension 768\n",
      "Dimensions of word embeddings : 18 words with embedding dimension 768\n",
      "Dimensions of word embeddings : 4 words with embedding dimension 768\n",
      "Dimensions of word embeddings : 6 words with embedding dimension 768\n",
      "Dimensions of word embeddings : 14 words with embedding dimension 768\n",
      "Dimensions of word embeddings : 7 words with embedding dimension 768\n",
      "Dimensions of word embeddings : 96 words with embedding dimension 768\n",
      "Dimensions of word embeddings : 20 words with embedding dimension 768\n",
      "Dimensions of word embeddings : 25 words with embedding dimension 768\n",
      "Dimensions of word embeddings : 39 words with embedding dimension 768\n",
      "Dimensions of word embeddings : 9 words with embedding dimension 768\n",
      "Dimensions of word embeddings : 92 words with embedding dimension 768\n",
      "Dimensions of word embeddings : 84 words with embedding dimension 768\n",
      "Dimensions of word embeddings : 14 words with embedding dimension 768\n",
      "Dimensions of word embeddings : 82 words with embedding dimension 768\n",
      "Dimensions of word embeddings : 21 words with embedding dimension 768\n",
      "Dimensions of word embeddings : 4 words with embedding dimension 768\n",
      "Dimensions of word embeddings : 12 words with embedding dimension 768\n",
      "Dimensions of word embeddings : 19 words with embedding dimension 768\n",
      "Dimensions of word embeddings : 38 words with embedding dimension 768\n",
      "Dimensions of word embeddings : 33 words with embedding dimension 768\n",
      "Dimensions of word embeddings : 8 words with embedding dimension 768\n",
      "Dimensions of word embeddings : 82 words with embedding dimension 768\n",
      "Dimensions of word embeddings : 9 words with embedding dimension 768\n",
      "Dimensions of word embeddings : 84 words with embedding dimension 768\n",
      "Dimensions of word embeddings : 10 words with embedding dimension 768\n",
      "Dimensions of word embeddings : 89 words with embedding dimension 768\n",
      "Dimensions of word embeddings : 82 words with embedding dimension 768\n",
      "Dimensions of word embeddings : 36 words with embedding dimension 768\n",
      "Dimensions of word embeddings : 57 words with embedding dimension 768\n",
      "Dimensions of word embeddings : 100 words with embedding dimension 768\n",
      "Dimensions of word embeddings : 9 words with embedding dimension 768\n",
      "Dimensions of word embeddings : 24 words with embedding dimension 768\n",
      "Dimensions of word embeddings : 10 words with embedding dimension 768\n",
      "Dimensions of word embeddings : 77 words with embedding dimension 768\n",
      "Dimensions of word embeddings : 12 words with embedding dimension 768\n",
      "Dimensions of word embeddings : 67 words with embedding dimension 768\n",
      "Dimensions of word embeddings : 25 words with embedding dimension 768\n",
      "Dimensions of word embeddings : 28 words with embedding dimension 768\n",
      "Dimensions of word embeddings : 15 words with embedding dimension 768\n",
      "Dimensions of word embeddings : 8 words with embedding dimension 768\n",
      "Dimensions of word embeddings : 6 words with embedding dimension 768\n"
     ]
    }
   ],
   "source": [
    "result_100 = subset.head(100)\n",
    "\n",
    "words = []\n",
    "\n",
    "for review in result_100['review']:\n",
    "    # Perform feature extraction using the pipeline\n",
    "    output = feature_extraction_pipeline(review[0:501])\n",
    "    for i, sentence_embeddings in enumerate(output):\n",
    "        num_words = len(sentence_embeddings)\n",
    "        embedding_dim = len(sentence_embeddings[0])\n",
    "        print(f\"Dimensions of word embeddings : {num_words} words with embedding dimension {embedding_dim}\")"
   ]
  },
  {
   "cell_type": "markdown",
   "metadata": {},
   "source": []
  }
 ],
 "metadata": {
  "kernelspec": {
   "display_name": "Keras3",
   "language": "python",
   "name": "python3"
  },
  "language_info": {
   "codemirror_mode": {
    "name": "ipython",
    "version": 3
   },
   "file_extension": ".py",
   "mimetype": "text/x-python",
   "name": "python",
   "nbconvert_exporter": "python",
   "pygments_lexer": "ipython3",
   "version": "3.11.7"
  }
 },
 "nbformat": 4,
 "nbformat_minor": 2
}
