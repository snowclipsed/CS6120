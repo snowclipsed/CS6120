{
 "cells": [
  {
   "cell_type": "markdown",
   "metadata": {},
   "source": [
    "## Question Answering"
   ]
  },
  {
   "cell_type": "code",
   "execution_count": 9,
   "metadata": {},
   "outputs": [
    {
     "name": "stderr",
     "output_type": "stream",
     "text": [
      "No model was supplied, defaulted to distilbert/distilbert-base-cased-distilled-squad and revision 626af31 (https://huggingface.co/distilbert/distilbert-base-cased-distilled-squad).\n",
      "Using a pipeline without specifying a model name and revision in production is not recommended.\n"
     ]
    },
    {
     "name": "stdout",
     "output_type": "stream",
     "text": [
      "A massive container ship lost power\n"
     ]
    }
   ],
   "source": [
    "# --------------------\n",
    "# Import pipeline\n",
    "# --------------------\n",
    "from huggingface_hub    import HfApi\n",
    "api = HfApi()\n",
    "\n",
    "from transformers import pipeline\n",
    "import pandas as pd\n",
    "\n",
    "# Load the model pipeline for question-answering\n",
    "qa_model = pipeline(\"question-answering\")\n",
    "# context = \"The Eiffel Tower was the tallest\"\n",
    "# question = \"For how long was the Eiffel Tower the tallest man-made structure in the world?\"\n",
    "\n",
    "context = '''A massive container ship lost power early Tuesday before crashing into the Francis Scott Key Bridge in Baltimore, causing it to collapse into the frigid Patapsco River along with people and vehicles, officials said.\n",
    "\n",
    "At least six people believed to be part of a construction crew repairing potholes on the bridge remain unaccounted for, Maryland Transportation Secretary Paul J. Wiedefeld said at a news conference Tuesday.\n",
    "\n",
    "Two people were pulled from the Patapsco River, Baltimore City Fire Department Chief James Wallace said. One was not injured and the other was taken to a local trauma center in “very serious condition,” he said.\n",
    "\n",
    "LIVE UPDATES: Baltimore bridge collapses after ship collision\n",
    "\n",
    "The crew of the ship notified officials that it had lost power prior to the crash, Maryland Gov. Wes Moore said, noting the warning likely saved lives.\n",
    "\n",
    "A view of the Francis Scott Key Bridge after it collapsed, in Baltimore, Maryland, U.S., in this picture released on March 26, 2024. Harford County MD Fire & EMS/Handout via REUTERS  THIS IMAGE HAS BEEN SUPPLIED BY A THIRD PARTY NO RESALES. NO ARCHIVES MANDATORY CREDIT\n",
    "RELATED ARTICLE\n",
    "What we know about the Baltimore bridge collapse\n",
    "“We’re thankful that between the mayday and the collapse, that we had officials who were able to begin to stop the flow of traffic so more cars were not on the bridge,” Moore said. He called those officials heroes.\n",
    "\n",
    "Moore noted that the bridge was up to code at the time of the collapse. He said the collapse was a “shocking and heartbreaking” event for the people of Maryland who have used the bridge for 47 years.\n",
    "\n",
    "Several vehicles are believed to have fallen into the water, including one as large as a tractor-trailer, Kevin Cartwright, director of communications of the Baltimore City Fire Department said early Tuesday.\"\n",
    "'''\n",
    "\n",
    "question = \"What caused the Francis Scott Key Bridge to collapse?\"\n",
    "\n",
    "# Pass the necessary inputs to the LLM pipeline for question-answering\n",
    "outputs = qa_model(question=question, context=context)\n",
    "\n",
    "# Access and print the answer\n",
    "print(outputs['answer'])"
   ]
  },
  {
   "cell_type": "markdown",
   "metadata": {},
   "source": [
    "## Language translation"
   ]
  },
  {
   "cell_type": "code",
   "execution_count": 5,
   "metadata": {},
   "outputs": [
    {
     "data": {
      "application/vnd.jupyter.widget-view+json": {
       "model_id": "146e8637d6a74025b565f19e38f79e6d",
       "version_major": 2,
       "version_minor": 0
      },
      "text/plain": [
       "source.spm:   0%|          | 0.00/812k [00:00<?, ?B/s]"
      ]
     },
     "metadata": {},
     "output_type": "display_data"
    },
    {
     "data": {
      "application/vnd.jupyter.widget-view+json": {
       "model_id": "5e86da99d0ba47d4b7c8e21b4e55300f",
       "version_major": 2,
       "version_minor": 0
      },
      "text/plain": [
       "target.spm:   0%|          | 0.00/1.07M [00:00<?, ?B/s]"
      ]
     },
     "metadata": {},
     "output_type": "display_data"
    },
    {
     "data": {
      "application/vnd.jupyter.widget-view+json": {
       "model_id": "f057cf22d86e4a239206a7b11273356e",
       "version_major": 2,
       "version_minor": 0
      },
      "text/plain": [
       "vocab.json:   0%|          | 0.00/2.10M [00:00<?, ?B/s]"
      ]
     },
     "metadata": {},
     "output_type": "display_data"
    },
    {
     "name": "stderr",
     "output_type": "stream",
     "text": [
      "/opt/anaconda3/envs/Keras3/lib/python3.9/site-packages/transformers/models/marian/tokenization_marian.py:197: UserWarning: Recommended: pip install sacremoses.\n",
      "  warnings.warn(\"Recommended: pip install sacremoses.\")\n"
     ]
    },
    {
     "name": "stdout",
     "output_type": "stream",
     "text": [
      "यह एक जाँच है\n"
     ]
    }
   ],
   "source": [
    "input_text = \"this is a test\"\n",
    "\n",
    "# Initialize the translation pipeline\n",
    "translator = pipeline(\"translation\", model=\"Helsinki-NLP/opus-mt-en-hi\")\n",
    "\n",
    "# Translate the input text\n",
    "# Translate the sentence to Hindi\n",
    "translation = translator(input_text)[0]['translation_text']\n",
    "\n",
    "# Print the translated text\n",
    "print(translation)\n"
   ]
  },
  {
   "cell_type": "code",
   "execution_count": 8,
   "metadata": {},
   "outputs": [
    {
     "data": {
      "text/plain": [
       "[{'translation_text': 'प्रशांत शनिवार को खुश है. बाहर बर्फबारी हो रही है.'}]"
      ]
     },
     "execution_count": 8,
     "metadata": {},
     "output_type": "execute_result"
    }
   ],
   "source": [
    "import torch\n",
    "# nllb = no language left behind\n",
    "translator = pipeline(task=\"translation\",\n",
    "                      model=\"facebook/nllb-200-distilled-600M\",\n",
    "                      torch_dtype=torch.bfloat16) \n",
    "\n",
    "                      \n",
    "text = \"\"\" Prashant is happy on Saturday. It is snowing outside.\n",
    "\"\"\"\n",
    "# List of languages supported by the model\n",
    "# https://github.com/facebookresearch/flores/blob/main/flores200/README.md#languages-in-flores-200\n",
    "text_translated = translator(text,\n",
    "                             src_lang=\"eng_Latn\",\n",
    "                             tgt_lang=\"hin_Deva\")\n",
    "\n",
    "text_translated"
   ]
  },
  {
   "cell_type": "markdown",
   "metadata": {},
   "source": [
    "## Clean up the Environment"
   ]
  },
  {
   "cell_type": "code",
   "execution_count": null,
   "metadata": {},
   "outputs": [],
   "source": [
    "import gc\n",
    "del transformer\n",
    "gc.collect()\n"
   ]
  },
  {
   "cell_type": "code",
   "execution_count": null,
   "metadata": {},
   "outputs": [],
   "source": []
  }
 ],
 "metadata": {
  "kernelspec": {
   "display_name": "Keras3",
   "language": "python",
   "name": "python3"
  },
  "language_info": {
   "codemirror_mode": {
    "name": "ipython",
    "version": 3
   },
   "file_extension": ".py",
   "mimetype": "text/x-python",
   "name": "python",
   "nbconvert_exporter": "python",
   "pygments_lexer": "ipython3",
   "version": "3.9.18"
  }
 },
 "nbformat": 4,
 "nbformat_minor": 2
}
