{
 "cells": [
  {
   "cell_type": "markdown",
   "metadata": {},
   "source": [
    "# Assignment 0 - Part A\n",
    "\n",
    "## A submission by Group J\n",
    "## Members\n",
    "Aishwarya Ravichandran <br>\n",
    "Hardik Bishnoi <br>\n",
    "B Dhanush Adhithya <br>\n",
    "\n"
   ]
  },
  {
   "cell_type": "markdown",
   "metadata": {},
   "source": [
    "# Importing csv\n",
    "\n",
    "This Python code imports the pandas library, reads a CSV file into a DataFrame, and prints the DataFrame to verify the data is loaded correctly."
   ]
  },
  {
   "cell_type": "code",
   "execution_count": 12,
   "metadata": {},
   "outputs": [
    {
     "name": "stdout",
     "output_type": "stream",
     "text": [
      "   first_name  last_name  company_name  address  city  county  state  phone1  \\\n",
      "0         NaN        NaN           NaN      NaN   NaN     NaN    NaN     NaN   \n",
      "1         NaN        NaN           NaN      NaN   NaN     NaN    NaN     NaN   \n",
      "2         NaN        NaN           NaN      NaN   NaN     NaN    NaN     NaN   \n",
      "3         NaN        NaN           NaN      NaN   NaN     NaN    NaN     NaN   \n",
      "4         NaN        NaN           NaN      NaN   NaN     NaN    NaN     NaN   \n",
      "\n",
      "   phone2  email                                        Description  \n",
      "0     NaN    NaN  James Butt: An avid historian, James Butt from...  \n",
      "1     NaN    NaN  Josephine Darakjy: Amidst the jazz-filled stre...  \n",
      "2     NaN    NaN  Art Venere: Art Venere, a nature enthusiast at...  \n",
      "3     NaN    NaN  Lenna Paprocki: While renovating their office ...  \n",
      "4     NaN    NaN  Donette Foller: In the tech hub of Hamilton, D...  \n"
     ]
    }
   ],
   "source": [
    "import pandas as pd\n",
    "\n",
    "# Replace 'filename.csv' with your csv file path\n",
    "df = pd.read_csv('Data\\A0-A.csv')\n",
    "\n",
    "# Print the DataFrame to verify it's loaded correctly\n",
    "print(df)"
   ]
  },
  {
   "cell_type": "code",
   "execution_count": 13,
   "metadata": {},
   "outputs": [],
   "source": [
    "import re"
   ]
  },
  {
   "cell_type": "markdown",
   "metadata": {},
   "source": [
    "## Extracting names\n",
    "\n",
    "Let us first check for names. After sampling the data, we can see that the names follow a common trend : they occur before the colon. We simply write the regex for querying this in the text as '^(.*?):', and then split the text using `.split()` to get the first and last names."
   ]
  },
  {
   "cell_type": "code",
   "execution_count": 14,
   "metadata": {},
   "outputs": [
    {
     "name": "stdout",
     "output_type": "stream",
     "text": [
      "  first_name last_name\n",
      "0      James      Butt\n",
      "1  Josephine   Darakjy\n",
      "2        Art    Venere\n",
      "3      Lenna  Paprocki\n",
      "4    Donette    Foller\n"
     ]
    },
    {
     "name": "stderr",
     "output_type": "stream",
     "text": [
      "C:\\Users\\harry\\AppData\\Local\\Temp\\ipykernel_22512\\4030865270.py:4: SettingWithCopyWarning: \n",
      "A value is trying to be set on a copy of a slice from a DataFrame\n",
      "\n",
      "See the caveats in the documentation: https://pandas.pydata.org/pandas-docs/stable/user_guide/indexing.html#returning-a-view-versus-a-copy\n",
      "  df.first_name[x] = match.group(1).split(' ')[0]\n",
      "C:\\Users\\harry\\AppData\\Local\\Temp\\ipykernel_22512\\4030865270.py:5: SettingWithCopyWarning: \n",
      "A value is trying to be set on a copy of a slice from a DataFrame\n",
      "\n",
      "See the caveats in the documentation: https://pandas.pydata.org/pandas-docs/stable/user_guide/indexing.html#returning-a-view-versus-a-copy\n",
      "  df.last_name[x] = match.group(1).split(' ')[1]\n"
     ]
    }
   ],
   "source": [
    "for x in range(len(df)):\n",
    "    match = re.search('^(.*?):', df.Description[x])\n",
    "    if match:\n",
    "        df.first_name[x] = match.group(1).split(' ')[0]\n",
    "        df.last_name[x] = match.group(1).split(' ')[1]\n",
    "    else:\n",
    "        df.first_name[x] = 'NaN'\n",
    "\n",
    "print(df[['first_name', 'last_name']])"
   ]
  },
  {
   "cell_type": "markdown",
   "metadata": {},
   "source": [
    "# Extracting Address\n",
    "\n",
    "We use a Python code that iterates over a DataFrame `df`, uses a regular expression to search for addresses in the `Description` column, assigns found addresses to a new column `address`, and prints the `address` column."
   ]
  },
  {
   "cell_type": "code",
   "execution_count": 15,
   "metadata": {},
   "outputs": [
    {
     "name": "stdout",
     "output_type": "stream",
     "text": [
      "               address\n",
      "0   6649 N Blue Gum St\n",
      "1  4 B Blue Ridge Blvd\n",
      "2                  NaN\n",
      "3          639 Main St\n",
      "4         34 Center St\n"
     ]
    },
    {
     "name": "stderr",
     "output_type": "stream",
     "text": [
      "C:\\Users\\harry\\AppData\\Local\\Temp\\ipykernel_22512\\4114136.py:4: SettingWithCopyWarning: \n",
      "A value is trying to be set on a copy of a slice from a DataFrame\n",
      "\n",
      "See the caveats in the documentation: https://pandas.pydata.org/pandas-docs/stable/user_guide/indexing.html#returning-a-view-versus-a-copy\n",
      "  df.address[x] = match.group(0)\n"
     ]
    }
   ],
   "source": [
    "for x in range(len(df)):\n",
    "    match = re.search(r'\\d+ [\\w\\s]+(?:St|Blvd)', df.Description[x])\n",
    "    if match:\n",
    "        df.address[x] = match.group(0)\n",
    "    else:\n",
    "        df.address[x] = 'NaN'\n",
    "\n",
    "print(df[['address']])"
   ]
  },
  {
   "cell_type": "markdown",
   "metadata": {},
   "source": [
    "# Extracting County"
   ]
  },
  {
   "cell_type": "code",
   "execution_count": 16,
   "metadata": {},
   "outputs": [
    {
     "name": "stdout",
     "output_type": "stream",
     "text": [
      "       county\n",
      "0     Orleans\n",
      "1  Livingston\n",
      "2  Gloucester\n",
      "3         NaN\n",
      "4         NaN\n"
     ]
    },
    {
     "name": "stderr",
     "output_type": "stream",
     "text": [
      "C:\\Users\\harry\\AppData\\Local\\Temp\\ipykernel_22512\\1621865669.py:4: SettingWithCopyWarning: \n",
      "A value is trying to be set on a copy of a slice from a DataFrame\n",
      "\n",
      "See the caveats in the documentation: https://pandas.pydata.org/pandas-docs/stable/user_guide/indexing.html#returning-a-view-versus-a-copy\n",
      "  df.county[x] = match.group(1)\n"
     ]
    }
   ],
   "source": [
    "for x in range(len(df)):\n",
    "    match = re.search(r'\\s(\\S+)\\sCounty', df.Description[x])\n",
    "    if match:\n",
    "        df.county[x] = match.group(1)\n",
    "    else:\n",
    "        df.county[x] = 'NaN'\n",
    "\n",
    "print(df[['county']])"
   ]
  },
  {
   "cell_type": "markdown",
   "metadata": {},
   "source": [
    "# Extracting Phone Numbers"
   ]
  },
  {
   "cell_type": "code",
   "execution_count": 17,
   "metadata": {},
   "outputs": [
    {
     "name": "stdout",
     "output_type": "stream",
     "text": [
      "         phone1        phone2\n",
      "0  504-621-8927  504-845-1427\n",
      "1  810-292-9388  810-374-9840\n",
      "2  856-636-8749  856-264-4130\n",
      "3  907-385-4412  907-921-2010\n",
      "4           NaN           NaN\n"
     ]
    },
    {
     "name": "stderr",
     "output_type": "stream",
     "text": [
      "C:\\Users\\harry\\AppData\\Local\\Temp\\ipykernel_22512\\2691628072.py:5: SettingWithCopyWarning: \n",
      "A value is trying to be set on a copy of a slice from a DataFrame\n",
      "\n",
      "See the caveats in the documentation: https://pandas.pydata.org/pandas-docs/stable/user_guide/indexing.html#returning-a-view-versus-a-copy\n",
      "  df.phone1[x] = match[y]\n",
      "C:\\Users\\harry\\AppData\\Local\\Temp\\ipykernel_22512\\2691628072.py:6: SettingWithCopyWarning: \n",
      "A value is trying to be set on a copy of a slice from a DataFrame\n",
      "\n",
      "See the caveats in the documentation: https://pandas.pydata.org/pandas-docs/stable/user_guide/indexing.html#returning-a-view-versus-a-copy\n",
      "  df.phone2[x] = match[y+1]\n"
     ]
    }
   ],
   "source": [
    "for x in range(len(df)):\n",
    "    match = re.findall(r'\\b\\d{3}-\\d{3}-\\d{4}\\b', df.Description[x])\n",
    "    if(len(match)>0):\n",
    "        for y in range(len(match)-1):\n",
    "            df.phone1[x] = match[y]\n",
    "            df.phone2[x] = match[y+1]\n",
    "\n",
    "print(df[['phone1', 'phone2']])"
   ]
  },
  {
   "cell_type": "markdown",
   "metadata": {},
   "source": [
    "# Extracting Company Names\n",
    "\n",
    "The function `extract_company_name(text)` is defined to perform the extraction of company names. It uses regular expressions to find matches in the text. The regular expression pattern `r'\\b(?:of|from|at)\\s+([A-Z][A-Za-z\\'-]+(?:\\s+[A-Z][A-Za-z\\'-]+)+)\\b'` is used to match company names that follow the words 'of', 'from', or 'at' and consist of one or more capitalized words. The `re.compile()` function is used to compile the regular expression pattern into a pattern object, which can be used for matching using its `findall()` method."
   ]
  },
  {
   "cell_type": "code",
   "execution_count": 25,
   "metadata": {},
   "outputs": [
    {
     "name": "stdout",
     "output_type": "stream",
     "text": [
      "             company_name\n",
      "0                    None\n",
      "1                    None\n",
      "2                    None\n",
      "3  Feltz Printing Service\n",
      "4     Printing Dimensions\n"
     ]
    }
   ],
   "source": [
    "\n",
    "def extract_company_name(text):\n",
    "    pattern = re.compile(r'\\b(?:of|from|at)\\s+([A-Z][A-Za-z\\'-]+(?:\\s+[A-Z][A-Za-z\\'-]+)+)\\b')\n",
    "    matches = re.findall(pattern, text)\n",
    "    if matches:\n",
    "        return matches[0]\n",
    "    else:\n",
    "        return None\n",
    "for i in range(len(df)):\n",
    "  text = df.Description[i]\n",
    "  company_name = extract_company_name(text)\n",
    "  df.company_name[i] = company_name\n",
    "  \n",
    "print(df[['company_name']])"
   ]
  },
  {
   "cell_type": "markdown",
   "metadata": {},
   "source": [
    "# Extracting City Names\n",
    "\n",
    "We see that we can try to generalize the regex to pick up the cities in the text by picking up text that comes after of or in and before a comma, however we fail to pick up Anchorage in the fourth paragraph, and instead pick up \"St\" as in street. This shows that regex is not 100% reliable and search patterns of two different things can overlap."
   ]
  },
  {
   "cell_type": "code",
   "execution_count": 18,
   "metadata": {},
   "outputs": [
    {
     "name": "stdout",
     "output_type": "stream",
     "text": [
      "          city\n",
      "0  New Orleans\n",
      "1          Liv\n",
      "2   Bridgeport\n",
      "3    Anchorage\n",
      "4         None\n"
     ]
    },
    {
     "name": "stderr",
     "output_type": "stream",
     "text": [
      "C:\\Users\\harry\\AppData\\Local\\Temp\\ipykernel_22512\\3677581450.py:14: SettingWithCopyWarning: \n",
      "A value is trying to be set on a copy of a slice from a DataFrame\n",
      "\n",
      "See the caveats in the documentation: https://pandas.pydata.org/pandas-docs/stable/user_guide/indexing.html#returning-a-view-versus-a-copy\n",
      "  df.city[i] = city\n"
     ]
    }
   ],
   "source": [
    "def extract_city(text):\n",
    "    pattern = re.compile(r'\\bin\\s+([A-Za-z][A-Za-z\\'-]+(?:\\s+[A-Z][A-Za-z\\'-]+)*)\\b')\n",
    "\n",
    "    match = re.search(pattern, text)\n",
    "\n",
    "    if match:\n",
    "        return match.group(0).split('in')[1].strip()\n",
    "    else:\n",
    "        return None\n",
    "\n",
    "for i in range(5):\n",
    "  text = df.Description[i]\n",
    "  city = extract_city(text)\n",
    "  df.city[i] = city\n",
    "print(df[['city']])"
   ]
  },
  {
   "cell_type": "markdown",
   "metadata": {},
   "source": [
    "# Finding States"
   ]
  },
  {
   "cell_type": "code",
   "execution_count": 19,
   "metadata": {},
   "outputs": [
    {
     "name": "stdout",
     "output_type": "stream",
     "text": [
      "  state\n",
      "0    LA\n",
      "1    MI\n",
      "2   NaN\n",
      "3    AK\n",
      "4   NaN\n"
     ]
    },
    {
     "name": "stderr",
     "output_type": "stream",
     "text": [
      "C:\\Users\\harry\\AppData\\Local\\Temp\\ipykernel_22512\\2754679906.py:8: SettingWithCopyWarning: \n",
      "A value is trying to be set on a copy of a slice from a DataFrame\n",
      "\n",
      "See the caveats in the documentation: https://pandas.pydata.org/pandas-docs/stable/user_guide/indexing.html#returning-a-view-versus-a-copy\n",
      "  df.state[x] = match.group()\n"
     ]
    }
   ],
   "source": [
    "import re\n",
    "\n",
    "pattern = r'\\b[A-Z]{2}\\b'\n",
    "\n",
    "for x in range(len(df)):\n",
    "    match = re.search(pattern, df.Description[x])\n",
    "    if match:\n",
    "        df.state[x] = match.group()\n",
    "    else:\n",
    "        df.state[x] = 'NaN'\n",
    "\n",
    "print(df[['state']])"
   ]
  },
  {
   "cell_type": "code",
   "execution_count": 20,
   "metadata": {},
   "outputs": [
    {
     "name": "stdout",
     "output_type": "stream",
     "text": [
      "                           email\n",
      "0                jbutt@gmail.com\n",
      "1  josephine_darakjy@darakjy.org\n",
      "2                            NaN\n",
      "3          lpaprocki@hotmail.com\n",
      "4                            NaN\n"
     ]
    },
    {
     "name": "stderr",
     "output_type": "stream",
     "text": [
      "C:\\Users\\harry\\AppData\\Local\\Temp\\ipykernel_22512\\2514542548.py:8: SettingWithCopyWarning: \n",
      "A value is trying to be set on a copy of a slice from a DataFrame\n",
      "\n",
      "See the caveats in the documentation: https://pandas.pydata.org/pandas-docs/stable/user_guide/indexing.html#returning-a-view-versus-a-copy\n",
      "  df.email[x] = match.group()\n"
     ]
    }
   ],
   "source": [
    "import re\n",
    "\n",
    "pattern = r'\\b[A-Za-z0-9._%+-]+@[A-Za-z0-9.-]+\\.[A-Z|a-z]{2,}\\b'\n",
    "\n",
    "for x in range(len(df)):\n",
    "    match = re.search(pattern, df.Description[x])\n",
    "    if match:\n",
    "        df.email[x] = match.group()\n",
    "    else:\n",
    "        df.email[x] = 'NaN'\n",
    "\n",
    "print(df[['email']])"
   ]
  },
  {
   "cell_type": "markdown",
   "metadata": {},
   "source": [
    "# Final Dataframe"
   ]
  },
  {
   "cell_type": "code",
   "execution_count": 21,
   "metadata": {},
   "outputs": [
    {
     "name": "stdout",
     "output_type": "stream",
     "text": [
      "  first_name last_name  company_name              address         city  \\\n",
      "0      James      Butt           NaN   6649 N Blue Gum St  New Orleans   \n",
      "1  Josephine   Darakjy           NaN  4 B Blue Ridge Blvd          Liv   \n",
      "2        Art    Venere           NaN                  NaN   Bridgeport   \n",
      "3      Lenna  Paprocki           NaN          639 Main St    Anchorage   \n",
      "4    Donette    Foller           NaN         34 Center St         None   \n",
      "\n",
      "       county state        phone1        phone2  \\\n",
      "0     Orleans    LA  504-621-8927  504-845-1427   \n",
      "1  Livingston    MI  810-292-9388  810-374-9840   \n",
      "2  Gloucester   NaN  856-636-8749  856-264-4130   \n",
      "3         NaN    AK  907-385-4412  907-921-2010   \n",
      "4         NaN   NaN           NaN           NaN   \n",
      "\n",
      "                           email  \\\n",
      "0                jbutt@gmail.com   \n",
      "1  josephine_darakjy@darakjy.org   \n",
      "2                            NaN   \n",
      "3          lpaprocki@hotmail.com   \n",
      "4                            NaN   \n",
      "\n",
      "                                         Description  \n",
      "0  James Butt: An avid historian, James Butt from...  \n",
      "1  Josephine Darakjy: Amidst the jazz-filled stre...  \n",
      "2  Art Venere: Art Venere, a nature enthusiast at...  \n",
      "3  Lenna Paprocki: While renovating their office ...  \n",
      "4  Donette Foller: In the tech hub of Hamilton, D...  \n"
     ]
    }
   ],
   "source": [
    "print(df)"
   ]
  },
  {
   "cell_type": "code",
   "execution_count": 22,
   "metadata": {},
   "outputs": [],
   "source": [
    "df.to_csv('C:/Users/harry/OneDrive/Documents/Northeastern University/CS6120/Assignments/A0/Solutions/NLP_A0_A/Data/solution.csv', index=False)\n"
   ]
  }
 ],
 "metadata": {
  "kernelspec": {
   "display_name": "Python 3 (ipykernel)",
   "language": "python",
   "name": "python3"
  }
 },
 "nbformat": 4,
 "nbformat_minor": 2
}
