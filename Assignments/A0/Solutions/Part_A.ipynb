{
 "cells": [
  {
   "cell_type": "code",
   "execution_count": 1,
   "metadata": {},
   "outputs": [
    {
     "name": "stdout",
     "output_type": "stream",
     "text": [
      "   first_name  last_name  company_name  address  city  county  state  phone1  \\\n",
      "0         NaN        NaN           NaN      NaN   NaN     NaN    NaN     NaN   \n",
      "1         NaN        NaN           NaN      NaN   NaN     NaN    NaN     NaN   \n",
      "2         NaN        NaN           NaN      NaN   NaN     NaN    NaN     NaN   \n",
      "3         NaN        NaN           NaN      NaN   NaN     NaN    NaN     NaN   \n",
      "4         NaN        NaN           NaN      NaN   NaN     NaN    NaN     NaN   \n",
      "\n",
      "   phone2  email                                        Description  \n",
      "0     NaN    NaN  James Butt: An avid historian, James Butt from...  \n",
      "1     NaN    NaN  Josephine Darakjy: Amidst the jazz-filled stre...  \n",
      "2     NaN    NaN  Art Venere: Art Venere, a nature enthusiast at...  \n",
      "3     NaN    NaN  Lenna Paprocki: While renovating their office ...  \n",
      "4     NaN    NaN  Donette Foller: In the tech hub of Hamilton, D...  \n"
     ]
    }
   ],
   "source": [
    "import pandas as pd\n",
    "\n",
    "# Replace 'filename.csv' with your csv file path\n",
    "df = pd.read_csv('Data\\A0-A.csv')\n",
    "\n",
    "# Print the DataFrame to verify it's loaded correctly\n",
    "print(df)"
   ]
  },
  {
   "cell_type": "code",
   "execution_count": 2,
   "metadata": {},
   "outputs": [],
   "source": [
    "import re"
   ]
  },
  {
   "cell_type": "markdown",
   "metadata": {},
   "source": [
    "## Extracting names\n",
    "\n",
    "Let us first check for names. After sampling the data, we can see that the names follow a common trend : they occur before the colon. We simply write the regex for querying this in the text as '^(.*?):', and then split the text using `.split()` to get the first and last names."
   ]
  },
  {
   "cell_type": "code",
   "execution_count": 3,
   "metadata": {},
   "outputs": [
    {
     "name": "stdout",
     "output_type": "stream",
     "text": [
      "  first_name last_name\n",
      "0      James      Butt\n",
      "1  Josephine   Darakjy\n",
      "2        Art    Venere\n",
      "3      Lenna  Paprocki\n",
      "4    Donette    Foller\n"
     ]
    },
    {
     "name": "stderr",
     "output_type": "stream",
     "text": [
      "C:\\Users\\harry\\AppData\\Local\\Temp\\ipykernel_32108\\4030865270.py:4: SettingWithCopyWarning: \n",
      "A value is trying to be set on a copy of a slice from a DataFrame\n",
      "\n",
      "See the caveats in the documentation: https://pandas.pydata.org/pandas-docs/stable/user_guide/indexing.html#returning-a-view-versus-a-copy\n",
      "  df.first_name[x] = match.group(1).split(' ')[0]\n",
      "C:\\Users\\harry\\AppData\\Local\\Temp\\ipykernel_32108\\4030865270.py:5: SettingWithCopyWarning: \n",
      "A value is trying to be set on a copy of a slice from a DataFrame\n",
      "\n",
      "See the caveats in the documentation: https://pandas.pydata.org/pandas-docs/stable/user_guide/indexing.html#returning-a-view-versus-a-copy\n",
      "  df.last_name[x] = match.group(1).split(' ')[1]\n"
     ]
    }
   ],
   "source": [
    "for x in range(len(df)):\n",
    "    match = re.search('^(.*?):', df.Description[x])\n",
    "    if match:\n",
    "        df.first_name[x] = match.group(1).split(' ')[0]\n",
    "        df.last_name[x] = match.group(1).split(' ')[1]\n",
    "    else:\n",
    "        df.first_name[x] = 'NaN'\n",
    "\n",
    "print(df[['first_name', 'last_name']])"
   ]
  },
  {
   "cell_type": "code",
   "execution_count": 4,
   "metadata": {},
   "outputs": [
    {
     "data": {
      "text/plain": [
       "'James Butt: An avid historian, James Butt from Benton, John B Jr in New Orleans, received a mysterious map in a package at 6649 N Blue Gum St. The map, traced back through a contact at 504-621-8927 and an expert at 504-845-1427, led to an underground bunker from WWII in LA. The findings, documented in an email to jbutt@gmail.com and shared on Benton, John B Jr, became a significant historical discovery for Orleans County.'"
      ]
     },
     "execution_count": 4,
     "metadata": {},
     "output_type": "execute_result"
    }
   ],
   "source": [
    "df.Description[0]"
   ]
  },
  {
   "cell_type": "code",
   "execution_count": 5,
   "metadata": {},
   "outputs": [
    {
     "name": "stdout",
     "output_type": "stream",
     "text": [
      "               address\n",
      "0   6649 N Blue Gum St\n",
      "1  4 B Blue Ridge Blvd\n",
      "2                  NaN\n",
      "3          639 Main St\n",
      "4         34 Center St\n"
     ]
    },
    {
     "name": "stderr",
     "output_type": "stream",
     "text": [
      "C:\\Users\\harry\\AppData\\Local\\Temp\\ipykernel_32108\\4114136.py:4: SettingWithCopyWarning: \n",
      "A value is trying to be set on a copy of a slice from a DataFrame\n",
      "\n",
      "See the caveats in the documentation: https://pandas.pydata.org/pandas-docs/stable/user_guide/indexing.html#returning-a-view-versus-a-copy\n",
      "  df.address[x] = match.group(0)\n"
     ]
    }
   ],
   "source": [
    "for x in range(len(df)):\n",
    "    match = re.search(r'\\d+ [\\w\\s]+(?:St|Blvd)', df.Description[x])\n",
    "    if match:\n",
    "        df.address[x] = match.group(0)\n",
    "    else:\n",
    "        df.address[x] = 'NaN'\n",
    "\n",
    "print(df[['address']])"
   ]
  },
  {
   "cell_type": "code",
   "execution_count": 6,
   "metadata": {},
   "outputs": [
    {
     "name": "stdout",
     "output_type": "stream",
     "text": [
      "       county\n",
      "0     Orleans\n",
      "1  Livingston\n",
      "2  Gloucester\n",
      "3         NaN\n",
      "4         NaN\n"
     ]
    },
    {
     "name": "stderr",
     "output_type": "stream",
     "text": [
      "C:\\Users\\harry\\AppData\\Local\\Temp\\ipykernel_32108\\1621865669.py:4: SettingWithCopyWarning: \n",
      "A value is trying to be set on a copy of a slice from a DataFrame\n",
      "\n",
      "See the caveats in the documentation: https://pandas.pydata.org/pandas-docs/stable/user_guide/indexing.html#returning-a-view-versus-a-copy\n",
      "  df.county[x] = match.group(1)\n"
     ]
    }
   ],
   "source": [
    "for x in range(len(df)):\n",
    "    match = re.search(r'\\s(\\S+)\\sCounty', df.Description[x])\n",
    "    if match:\n",
    "        df.county[x] = match.group(1)\n",
    "    else:\n",
    "        df.county[x] = 'NaN'\n",
    "\n",
    "print(df[['county']])"
   ]
  },
  {
   "cell_type": "code",
   "execution_count": 7,
   "metadata": {},
   "outputs": [
    {
     "name": "stdout",
     "output_type": "stream",
     "text": [
      "         phone1        phone2\n",
      "0  504-621-8927  504-845-1427\n",
      "1  810-292-9388  810-374-9840\n",
      "2  856-636-8749  856-264-4130\n",
      "3  907-385-4412  907-921-2010\n",
      "4           NaN           NaN\n"
     ]
    },
    {
     "name": "stderr",
     "output_type": "stream",
     "text": [
      "C:\\Users\\harry\\AppData\\Local\\Temp\\ipykernel_32108\\2691628072.py:5: SettingWithCopyWarning: \n",
      "A value is trying to be set on a copy of a slice from a DataFrame\n",
      "\n",
      "See the caveats in the documentation: https://pandas.pydata.org/pandas-docs/stable/user_guide/indexing.html#returning-a-view-versus-a-copy\n",
      "  df.phone1[x] = match[y]\n",
      "C:\\Users\\harry\\AppData\\Local\\Temp\\ipykernel_32108\\2691628072.py:6: SettingWithCopyWarning: \n",
      "A value is trying to be set on a copy of a slice from a DataFrame\n",
      "\n",
      "See the caveats in the documentation: https://pandas.pydata.org/pandas-docs/stable/user_guide/indexing.html#returning-a-view-versus-a-copy\n",
      "  df.phone2[x] = match[y+1]\n"
     ]
    }
   ],
   "source": [
    "for x in range(len(df)):\n",
    "    match = re.findall(r'\\b\\d{3}-\\d{3}-\\d{4}\\b', df.Description[x])\n",
    "    if(len(match)>0):\n",
    "        for y in range(len(match)-1):\n",
    "            df.phone1[x] = match[y]\n",
    "            df.phone2[x] = match[y+1]\n",
    "\n",
    "print(df[['phone1', 'phone2']])"
   ]
  },
  {
   "cell_type": "code",
   "execution_count": 8,
   "metadata": {},
   "outputs": [
    {
     "name": "stdout",
     "output_type": "stream",
     "text": [
      "  first_name last_name  company_name              address  city      county  \\\n",
      "0      James      Butt           NaN   6649 N Blue Gum St   NaN     Orleans   \n",
      "1  Josephine   Darakjy           NaN  4 B Blue Ridge Blvd   NaN  Livingston   \n",
      "2        Art    Venere           NaN                  NaN   NaN  Gloucester   \n",
      "3      Lenna  Paprocki           NaN          639 Main St   NaN         NaN   \n",
      "4    Donette    Foller           NaN         34 Center St   NaN         NaN   \n",
      "\n",
      "   state        phone1        phone2  email  \\\n",
      "0    NaN  504-621-8927  504-845-1427    NaN   \n",
      "1    NaN  810-292-9388  810-374-9840    NaN   \n",
      "2    NaN  856-636-8749  856-264-4130    NaN   \n",
      "3    NaN  907-385-4412  907-921-2010    NaN   \n",
      "4    NaN           NaN           NaN    NaN   \n",
      "\n",
      "                                         Description  \n",
      "0  James Butt: An avid historian, James Butt from...  \n",
      "1  Josephine Darakjy: Amidst the jazz-filled stre...  \n",
      "2  Art Venere: Art Venere, a nature enthusiast at...  \n",
      "3  Lenna Paprocki: While renovating their office ...  \n",
      "4  Donette Foller: In the tech hub of Hamilton, D...  \n"
     ]
    }
   ],
   "source": [
    "print(df)"
   ]
  },
  {
   "cell_type": "code",
   "execution_count": null,
   "metadata": {},
   "outputs": [],
   "source": []
  }
 ],
 "metadata": {
  "kernelspec": {
   "display_name": "Python 3 (ipykernel)",
   "language": "python",
   "name": "python3"
  },
  "language_info": {
   "codemirror_mode": {
    "name": "ipython",
    "version": 3
   },
   "file_extension": ".py",
   "mimetype": "text/x-python",
   "name": "python",
   "nbconvert_exporter": "python",
   "pygments_lexer": "ipython3",
   "version": "3.11.5"
  }
 },
 "nbformat": 4,
 "nbformat_minor": 2
}
